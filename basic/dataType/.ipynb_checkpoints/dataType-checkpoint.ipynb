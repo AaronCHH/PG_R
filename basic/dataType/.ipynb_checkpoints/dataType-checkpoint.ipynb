{
 "cells": [
  {
   "cell_type": "markdown",
   "metadata": {},
   "source": [
    "## Basic"
   ]
  },
  {
   "cell_type": "code",
   "execution_count": 1,
   "metadata": {
    "collapsed": false
   },
   "outputs": [
    {
     "name": "stdout",
     "output_type": "stream",
     "text": [
      "[1] \"logical\"\n"
     ]
    }
   ],
   "source": [
    "v <- TRUE \n",
    "print(class(v))"
   ]
  },
  {
   "cell_type": "code",
   "execution_count": 2,
   "metadata": {
    "collapsed": false
   },
   "outputs": [
    {
     "name": "stdout",
     "output_type": "stream",
     "text": [
      "[1] \"numeric\"\n"
     ]
    }
   ],
   "source": [
    "v <- 23.5\n",
    "print(class(v))"
   ]
  },
  {
   "cell_type": "code",
   "execution_count": 3,
   "metadata": {
    "collapsed": false
   },
   "outputs": [
    {
     "name": "stdout",
     "output_type": "stream",
     "text": [
      "[1] \"integer\"\n"
     ]
    }
   ],
   "source": [
    "v <- 2L\n",
    "print(class(v))"
   ]
  },
  {
   "cell_type": "code",
   "execution_count": 4,
   "metadata": {
    "collapsed": false
   },
   "outputs": [
    {
     "name": "stdout",
     "output_type": "stream",
     "text": [
      "[1] \"complex\"\n"
     ]
    }
   ],
   "source": [
    "v <- 2+5i\n",
    "print(class(v))"
   ]
  },
  {
   "cell_type": "code",
   "execution_count": 5,
   "metadata": {
    "collapsed": false
   },
   "outputs": [
    {
     "name": "stdout",
     "output_type": "stream",
     "text": [
      "[1] \"character\"\n"
     ]
    }
   ],
   "source": [
    "v <- \"TRUE\"\n",
    "print(class(v))"
   ]
  },
  {
   "cell_type": "code",
   "execution_count": 6,
   "metadata": {
    "collapsed": false
   },
   "outputs": [
    {
     "name": "stdout",
     "output_type": "stream",
     "text": [
      "[1] \"raw\"\n"
     ]
    }
   ],
   "source": [
    "v <- charToRaw(\"Hello\")\n",
    "print(class(v))"
   ]
  },
  {
   "cell_type": "markdown",
   "metadata": {},
   "source": [
    "## Vectors"
   ]
  },
  {
   "cell_type": "code",
   "execution_count": 10,
   "metadata": {
    "collapsed": false
   },
   "outputs": [
    {
     "name": "stdout",
     "output_type": "stream",
     "text": [
      "[1] \"red\"    \"green\"  \"yellow\"\n",
      "[1] \"character\"\n"
     ]
    }
   ],
   "source": [
    "# Create a vector.\n",
    "apple <- c('red','green',\"yellow\")\n",
    "print(apple)\n",
    "\n",
    "# Get the class of the vector.\n",
    "print(class(apple))"
   ]
  },
  {
   "cell_type": "markdown",
   "metadata": {},
   "source": [
    "## Lists"
   ]
  },
  {
   "cell_type": "code",
   "execution_count": 11,
   "metadata": {
    "collapsed": false
   },
   "outputs": [
    {
     "name": "stdout",
     "output_type": "stream",
     "text": [
      "[[1]]\n",
      "[1] 2 5 3\n",
      "\n",
      "[[2]]\n",
      "[1] 21.3\n",
      "\n",
      "[[3]]\n",
      "function (x)  .Primitive(\"sin\")\n",
      "\n"
     ]
    }
   ],
   "source": [
    "# Create a list.\n",
    "list1 <- list(c(2,5,3),21.3,sin)\n",
    "\n",
    "# Print the list.\n",
    "print(list1)"
   ]
  },
  {
   "cell_type": "markdown",
   "metadata": {},
   "source": [
    "## Matrices"
   ]
  },
  {
   "cell_type": "code",
   "execution_count": 12,
   "metadata": {
    "collapsed": false
   },
   "outputs": [
    {
     "name": "stdout",
     "output_type": "stream",
     "text": [
      "     [,1] [,2] [,3]\n",
      "[1,] \"a\"  \"a\"  \"b\" \n",
      "[2,] \"c\"  \"b\"  \"a\" \n"
     ]
    }
   ],
   "source": [
    "# Create a matrix.\n",
    "M = matrix( c('a','a','b','c','b','a'), nrow = 2, ncol = 3, byrow = TRUE)\n",
    "print(M)"
   ]
  },
  {
   "cell_type": "markdown",
   "metadata": {},
   "source": [
    "## Arrays"
   ]
  },
  {
   "cell_type": "code",
   "execution_count": 13,
   "metadata": {
    "collapsed": false
   },
   "outputs": [
    {
     "name": "stdout",
     "output_type": "stream",
     "text": [
      ", , 1\n",
      "\n",
      "     [,1]     [,2]     [,3]    \n",
      "[1,] \"green\"  \"yellow\" \"green\" \n",
      "[2,] \"yellow\" \"green\"  \"yellow\"\n",
      "[3,] \"green\"  \"yellow\" \"green\" \n",
      "\n",
      ", , 2\n",
      "\n",
      "     [,1]     [,2]     [,3]    \n",
      "[1,] \"yellow\" \"green\"  \"yellow\"\n",
      "[2,] \"green\"  \"yellow\" \"green\" \n",
      "[3,] \"yellow\" \"green\"  \"yellow\"\n",
      "\n"
     ]
    }
   ],
   "source": [
    "# Create an array.\n",
    "a <- array(c('green','yellow'),dim = c(3,3,2))\n",
    "print(a)"
   ]
  },
  {
   "cell_type": "markdown",
   "metadata": {},
   "source": [
    "## Factors"
   ]
  },
  {
   "cell_type": "code",
   "execution_count": 14,
   "metadata": {
    "collapsed": false
   },
   "outputs": [
    {
     "name": "stdout",
     "output_type": "stream",
     "text": [
      "[1] green  green  yellow red    red    red    green \n",
      "Levels: green red yellow\n",
      "[1] 3\n"
     ]
    }
   ],
   "source": [
    "# Create a vector.\n",
    "apple_colors <- c('green','green','yellow','red','red','red','green')\n",
    "\n",
    "# Create a factor object.\n",
    "factor_apple <- factor(apple_colors)\n",
    "\n",
    "# Print the factor.\n",
    "print(factor_apple)\n",
    "print(nlevels(factor_apple))"
   ]
  },
  {
   "cell_type": "markdown",
   "metadata": {},
   "source": [
    "## Data Frames"
   ]
  },
  {
   "cell_type": "code",
   "execution_count": 15,
   "metadata": {
    "collapsed": false
   },
   "outputs": [
    {
     "name": "stdout",
     "output_type": "stream",
     "text": [
      "  gender height weight Age\n",
      "1   Male  152.0     81  42\n",
      "2   Male  171.5     93  38\n",
      "3 Female  165.0     78  26\n"
     ]
    }
   ],
   "source": [
    "# Create the data frame.\n",
    "BMI <- \tdata.frame(\n",
    "   gender = c(\"Male\", \"Male\",\"Female\"), \n",
    "   height = c(152, 171.5, 165), \n",
    "   weight = c(81,93, 78),\n",
    "   Age = c(42,38,26)\n",
    ")\n",
    "print(BMI)"
   ]
  },
  {
   "cell_type": "code",
   "execution_count": null,
   "metadata": {
    "collapsed": true
   },
   "outputs": [],
   "source": []
  }
 ],
 "metadata": {
  "anaconda-cloud": {},
  "kernelspec": {
   "display_name": "R",
   "language": "R",
   "name": "ir"
  },
  "language_info": {
   "codemirror_mode": "r",
   "file_extension": ".r",
   "mimetype": "text/x-r-source",
   "name": "R",
   "pygments_lexer": "r",
   "version": "3.3.1"
  }
 },
 "nbformat": 4,
 "nbformat_minor": 1
}
