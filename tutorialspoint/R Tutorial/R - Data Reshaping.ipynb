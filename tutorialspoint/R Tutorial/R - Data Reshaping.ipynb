{
 "cells": [
  {
   "cell_type": "markdown",
   "metadata": {},
   "source": [
    "# Joining Columns and Rows in a Data Frame"
   ]
  },
  {
   "cell_type": "code",
   "execution_count": 2,
   "metadata": {
    "collapsed": true
   },
   "outputs": [],
   "source": [
    "# Create vector objects.\n",
    "city <- c(\"Tampa\",\"Seattle\",\"Hartford\",\"Denver\")\n",
    "state <- c(\"FL\",\"WA\",\"CT\",\"CO\")\n",
    "zipcode <- c(33602,98104,06161,80294)"
   ]
  },
  {
   "cell_type": "code",
   "execution_count": 4,
   "metadata": {
    "collapsed": true
   },
   "outputs": [],
   "source": [
    "# Combine above three vectors into one data frame.\n",
    "addresses <- cbind(city,state,zipcode)"
   ]
  },
  {
   "cell_type": "code",
   "execution_count": 10,
   "metadata": {
    "collapsed": false
   },
   "outputs": [
    {
     "name": "stdout",
     "output_type": "stream",
     "text": [
      "# # # # The First data frame\n",
      "     city       state zipcode\n",
      "[1,] \"Tampa\"    \"FL\"  \"33602\"\n",
      "[2,] \"Seattle\"  \"WA\"  \"98104\"\n",
      "[3,] \"Hartford\" \"CT\"  \"6161\" \n",
      "[4,] \"Denver\"   \"CO\"  \"80294\"\n"
     ]
    }
   ],
   "source": [
    "# Print a header.\n",
    "cat(\"# # # # The First data frame\\n\") \n",
    "\n",
    "# Print the data frame.\n",
    "print(addresses)"
   ]
  },
  {
   "cell_type": "code",
   "execution_count": 8,
   "metadata": {
    "collapsed": false
   },
   "outputs": [
    {
     "name": "stdout",
     "output_type": "stream",
     "text": [
      "# # # The Second data frame\n",
      "       city state zipcode\n",
      "1     Lowry    CO   80230\n",
      "2 Charlotte    FL   33949\n"
     ]
    }
   ],
   "source": [
    "# Create another data frame with similar columns\n",
    "new.address <- data.frame(\n",
    "   city = c(\"Lowry\",\"Charlotte\"),\n",
    "   state = c(\"CO\",\"FL\"),\n",
    "   zipcode = c(\"80230\",\"33949\"),\n",
    "   stringsAsFactors = FALSE\n",
    ")\n",
    "\n",
    "# Print a header.\n",
    "cat(\"# # # The Second data frame\\n\") \n",
    "\n",
    "# Print the data frame.\n",
    "print(new.address)"
   ]
  },
  {
   "cell_type": "code",
   "execution_count": 9,
   "metadata": {
    "collapsed": false
   },
   "outputs": [
    {
     "name": "stdout",
     "output_type": "stream",
     "text": [
      "# # # The combined data frame\n",
      "       city state zipcode\n",
      "1     Tampa    FL   33602\n",
      "2   Seattle    WA   98104\n",
      "3  Hartford    CT    6161\n",
      "4    Denver    CO   80294\n",
      "5     Lowry    CO   80230\n",
      "6 Charlotte    FL   33949\n"
     ]
    }
   ],
   "source": [
    "# Combine rows form both the data frames.\n",
    "all.addresses <- rbind(addresses,new.address)\n",
    "\n",
    "# Print a header.\n",
    "cat(\"# # # The combined data frame\\n\") \n",
    "\n",
    "# Print the result.\n",
    "print(all.addresses)"
   ]
  },
  {
   "cell_type": "markdown",
   "metadata": {},
   "source": [
    "# Merging Data Frames"
   ]
  },
  {
   "cell_type": "code",
   "execution_count": 12,
   "metadata": {
    "collapsed": false
   },
   "outputs": [
    {
     "name": "stdout",
     "output_type": "stream",
     "text": [
      "   bp  bmi npreg.x glu.x skin.x ped.x age.x type.x npreg.y glu.y skin.y ped.y\n",
      "1  60 33.8       1   117     23 0.466    27     No       2   125     20 0.088\n",
      "2  64 29.7       2    75     24 0.370    33     No       2   100     23 0.368\n",
      "3  64 31.2       5   189     33 0.583    29    Yes       3   158     13 0.295\n",
      "4  64 33.2       4   117     27 0.230    24     No       1    96     27 0.289\n",
      "5  66 38.1       3   115     39 0.150    28     No       1   114     36 0.289\n",
      "6  68 38.5       2   100     25 0.324    26     No       7   129     49 0.439\n",
      "7  70 27.4       1   116     28 0.204    21     No       0   124     20 0.254\n",
      "8  70 33.1       4    91     32 0.446    22     No       9   123     44 0.374\n",
      "9  70 35.4       9   124     33 0.282    34     No       6   134     23 0.542\n",
      "10 72 25.6       1   157     21 0.123    24     No       4    99     17 0.294\n",
      "11 72 37.7       5    95     33 0.370    27     No       6   103     32 0.324\n",
      "12 74 25.9       9   134     33 0.460    81     No       8   126     38 0.162\n",
      "13 74 25.9       1    95     21 0.673    36     No       8   126     38 0.162\n",
      "14 78 27.6       5    88     30 0.258    37     No       6   125     31 0.565\n",
      "15 78 27.6      10   122     31 0.512    45     No       6   125     31 0.565\n",
      "16 78 39.4       2   112     50 0.175    24     No       4   112     40 0.236\n",
      "17 88 34.5       1   117     24 0.403    40    Yes       4   127     11 0.598\n",
      "   age.y type.y\n",
      "1     31     No\n",
      "2     21     No\n",
      "3     24     No\n",
      "4     21     No\n",
      "5     21     No\n",
      "6     43    Yes\n",
      "7     36    Yes\n",
      "8     40     No\n",
      "9     29    Yes\n",
      "10    28     No\n",
      "11    55     No\n",
      "12    39     No\n",
      "13    39     No\n",
      "14    49    Yes\n",
      "15    49    Yes\n",
      "16    38     No\n",
      "17    28     No\n"
     ]
    },
    {
     "data": {
      "text/html": [
       "17"
      ],
      "text/latex": [
       "17"
      ],
      "text/markdown": [
       "17"
      ],
      "text/plain": [
       "[1] 17"
      ]
     },
     "metadata": {},
     "output_type": "display_data"
    }
   ],
   "source": [
    "library(MASS)\n",
    "merged.Pima <- merge(\n",
    "    x = Pima.te, \n",
    "    y = Pima.tr,\n",
    "    by.x = c(\"bp\", \"bmi\"),\n",
    "    by.y = c(\"bp\", \"bmi\")\n",
    ")\n",
    "print(merged.Pima)\n",
    "nrow(merged.Pima)"
   ]
  },
  {
   "cell_type": "markdown",
   "metadata": {},
   "source": [
    "# Melting and Casting"
   ]
  },
  {
   "cell_type": "code",
   "execution_count": 13,
   "metadata": {
    "collapsed": false
   },
   "outputs": [
    {
     "name": "stdout",
     "output_type": "stream",
     "text": [
      "   type year period service incidents\n",
      "1     A   60     60     127         0\n",
      "2     A   60     75      63         0\n",
      "3     A   65     60    1095         3\n",
      "4     A   65     75    1095         4\n",
      "5     A   70     60    1512         6\n",
      "6     A   70     75    3353        18\n",
      "7     A   75     60       0         0\n",
      "8     A   75     75    2244        11\n",
      "9     B   60     60   44882        39\n",
      "10    B   60     75   17176        29\n",
      "11    B   65     60   28609        58\n",
      "12    B   65     75   20370        53\n",
      "13    B   70     60    7064        12\n",
      "14    B   70     75   13099        44\n",
      "15    B   75     60       0         0\n",
      "16    B   75     75    7117        18\n",
      "17    C   60     60    1179         1\n",
      "18    C   60     75     552         1\n",
      "19    C   65     60     781         0\n",
      "20    C   65     75     676         1\n",
      "21    C   70     60     783         6\n",
      "22    C   70     75    1948         2\n",
      "23    C   75     60       0         0\n",
      "24    C   75     75     274         1\n",
      "25    D   60     60     251         0\n",
      "26    D   60     75     105         0\n",
      "27    D   65     60     288         0\n",
      "28    D   65     75     192         0\n",
      "29    D   70     60     349         2\n",
      "30    D   70     75    1208        11\n",
      "31    D   75     60       0         0\n",
      "32    D   75     75    2051         4\n",
      "33    E   60     60      45         0\n",
      "34    E   60     75       0         0\n",
      "35    E   65     60     789         7\n",
      "36    E   65     75     437         7\n",
      "37    E   70     60    1157         5\n",
      "38    E   70     75    2161        12\n",
      "39    E   75     60       0         0\n",
      "40    E   75     75     542         1\n"
     ]
    }
   ],
   "source": [
    "library(MASS)\n",
    "print(ships)"
   ]
  },
  {
   "cell_type": "markdown",
   "metadata": {},
   "source": [
    "# Melt the Data"
   ]
  },
  {
   "cell_type": "code",
   "execution_count": 14,
   "metadata": {
    "collapsed": false
   },
   "outputs": [
    {
     "ename": "ERROR",
     "evalue": "Error in eval(expr, envir, enclos): 沒有這個函數 \"melt\"\n",
     "output_type": "error",
     "traceback": [
      "Error in eval(expr, envir, enclos): 沒有這個函數 \"melt\"\nTraceback:\n"
     ]
    }
   ],
   "source": [
    "molten.ships <- melt(ships, id = c(\"type\",\"year\"))\n",
    "print(molten.ships)"
   ]
  },
  {
   "cell_type": "markdown",
   "metadata": {},
   "source": [
    "# Cast the Molten Data"
   ]
  },
  {
   "cell_type": "code",
   "execution_count": 15,
   "metadata": {
    "collapsed": false
   },
   "outputs": [
    {
     "ename": "ERROR",
     "evalue": "Error in eval(expr, envir, enclos): 沒有這個函數 \"cast\"\n",
     "output_type": "error",
     "traceback": [
      "Error in eval(expr, envir, enclos): 沒有這個函數 \"cast\"\nTraceback:\n"
     ]
    }
   ],
   "source": [
    "recasted.ship <- cast(molten.ships, type+year~variable,sum)\n",
    "print(recasted.ship)"
   ]
  },
  {
   "cell_type": "code",
   "execution_count": null,
   "metadata": {
    "collapsed": true
   },
   "outputs": [],
   "source": []
  }
 ],
 "metadata": {
  "kernelspec": {
   "display_name": "R",
   "language": "R",
   "name": "ir"
  },
  "language_info": {
   "codemirror_mode": "r",
   "file_extension": ".r",
   "mimetype": "text/x-r-source",
   "name": "R",
   "pygments_lexer": "r",
   "version": "3.3.2"
  }
 },
 "nbformat": 4,
 "nbformat_minor": 1
}
