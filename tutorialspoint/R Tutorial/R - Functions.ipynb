{
 "cells": [
  {
   "cell_type": "markdown",
   "metadata": {},
   "source": [
    "# Built-in Function"
   ]
  },
  {
   "cell_type": "code",
   "execution_count": 1,
   "metadata": {
    "collapsed": false
   },
   "outputs": [
    {
     "name": "stdout",
     "output_type": "stream",
     "text": [
      " [1] 32 33 34 35 36 37 38 39 40 41 42 43 44\n",
      "[1] 53.5\n",
      "[1] 1526\n"
     ]
    }
   ],
   "source": [
    "# Create a sequence of numbers from 32 to 44.\n",
    "print(seq(32,44))\n",
    "\n",
    "# Find mean of numbers from 25 to 82.\n",
    "print(mean(25:82))\n",
    "\n",
    "# Find sum of numbers frm 41 to 68.\n",
    "print(sum(41:68))"
   ]
  },
  {
   "cell_type": "markdown",
   "metadata": {},
   "source": [
    "# User-defined Function"
   ]
  },
  {
   "cell_type": "code",
   "execution_count": 2,
   "metadata": {
    "collapsed": true
   },
   "outputs": [],
   "source": [
    "# Create a function to print squares of numbers in sequence.\n",
    "new.function <- function(a) {\n",
    "   for(i in 1:a) {\n",
    "      b <- i^2\n",
    "      print(b)\n",
    "   }\n",
    "}"
   ]
  },
  {
   "cell_type": "markdown",
   "metadata": {},
   "source": [
    "# Calling a Function"
   ]
  },
  {
   "cell_type": "code",
   "execution_count": 3,
   "metadata": {
    "collapsed": false
   },
   "outputs": [
    {
     "name": "stdout",
     "output_type": "stream",
     "text": [
      "[1] 1\n",
      "[1] 4\n",
      "[1] 9\n",
      "[1] 16\n",
      "[1] 25\n",
      "[1] 36\n"
     ]
    }
   ],
   "source": [
    "# Create a function to print squares of numbers in sequence.\n",
    "new.function <- function(a) {\n",
    "   for(i in 1:a) {\n",
    "      b <- i^2\n",
    "      print(b)\n",
    "   }\n",
    "}\n",
    "\n",
    "# Call the function new.function supplying 6 as an argument.\n",
    "new.function(6)"
   ]
  },
  {
   "cell_type": "markdown",
   "metadata": {},
   "source": [
    "## Calling a Function without an Argument"
   ]
  },
  {
   "cell_type": "code",
   "execution_count": 4,
   "metadata": {
    "collapsed": false
   },
   "outputs": [
    {
     "name": "stdout",
     "output_type": "stream",
     "text": [
      "[1] 1\n",
      "[1] 4\n",
      "[1] 9\n",
      "[1] 16\n",
      "[1] 25\n"
     ]
    }
   ],
   "source": [
    "# Create a function without an argument.\n",
    "new.function <- function() {\n",
    "   for(i in 1:5) {\n",
    "      print(i^2)\n",
    "   }\n",
    "}\n",
    "\n",
    "# Call the function without supplying an argument.\n",
    "new.function()"
   ]
  },
  {
   "cell_type": "markdown",
   "metadata": {
    "collapsed": true
   },
   "source": [
    "## Calling a Function with Argument Values (by position and by name)"
   ]
  },
  {
   "cell_type": "code",
   "execution_count": 1,
   "metadata": {
    "collapsed": false
   },
   "outputs": [
    {
     "name": "stdout",
     "output_type": "stream",
     "text": [
      "[1] 26\n",
      "[1] 58\n"
     ]
    }
   ],
   "source": [
    "# Create a function with arguments.\n",
    "new.function <- function(a, b, c) {\n",
    "   result <- a * b + c\n",
    "   print(result)\n",
    "}\n",
    "\n",
    "# Call the function by position of arguments.\n",
    "new.function(5,3,11)\n",
    "\n",
    "# Call the function by names of the arguments.\n",
    "new.function(a = 11, b = 5, c = 3)"
   ]
  },
  {
   "cell_type": "markdown",
   "metadata": {},
   "source": [
    "## Calling a Function with Default Argument"
   ]
  },
  {
   "cell_type": "code",
   "execution_count": 2,
   "metadata": {
    "collapsed": false
   },
   "outputs": [
    {
     "name": "stdout",
     "output_type": "stream",
     "text": [
      "[1] 18\n",
      "[1] 45\n"
     ]
    }
   ],
   "source": [
    "# Create a function with arguments.\n",
    "new.function <- function(a = 3, b = 6) {\n",
    "   result <- a * b\n",
    "   print(result)\n",
    "}\n",
    "\n",
    "# Call the function without giving any argument.\n",
    "new.function()\n",
    "\n",
    "# Call the function with giving new values of the argument.\n",
    "new.function(9,5)"
   ]
  },
  {
   "cell_type": "markdown",
   "metadata": {},
   "source": [
    "## Lazy Evaluation of Functionm"
   ]
  },
  {
   "cell_type": "markdown",
   "metadata": {},
   "source": [
    "Arguments to functions are evaluated lazily, which means so they are evaluated only when needed by the function body."
   ]
  },
  {
   "cell_type": "code",
   "execution_count": 7,
   "metadata": {
    "collapsed": false
   },
   "outputs": [
    {
     "name": "stdout",
     "output_type": "stream",
     "text": [
      "[1] 36\n",
      "[1] 6\n"
     ]
    },
    {
     "ename": "ERROR",
     "evalue": "Error in print(b): 缺少引數 \"b\"，也沒有預設值\n",
     "output_type": "error",
     "traceback": [
      "Error in print(b): 缺少引數 \"b\"，也沒有預設值\nTraceback:\n",
      "1. new.function(6)",
      "2. print(b)   # at line 5 of file <text>"
     ]
    }
   ],
   "source": [
    "# Create a function with arguments.\n",
    "new.function <- function(a, b) {\n",
    "   print(a^2)\n",
    "   print(a)\n",
    "   print(b)\n",
    "}\n",
    "\n",
    "# Evaluate the function without supplying one of the arguments.\n",
    "new.function(6)"
   ]
  },
  {
   "cell_type": "code",
   "execution_count": null,
   "metadata": {
    "collapsed": true
   },
   "outputs": [],
   "source": []
  }
 ],
 "metadata": {
  "anaconda-cloud": {},
  "kernelspec": {
   "display_name": "R",
   "language": "R",
   "name": "ir"
  },
  "language_info": {
   "codemirror_mode": "r",
   "file_extension": ".r",
   "mimetype": "text/x-r-source",
   "name": "R",
   "pygments_lexer": "r",
   "version": "3.3.2"
  }
 },
 "nbformat": 4,
 "nbformat_minor": 1
}
