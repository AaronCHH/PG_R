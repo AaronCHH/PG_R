{
 "cells": [
  {
   "cell_type": "markdown",
   "metadata": {},
   "source": [
    "# R - CSV Files"
   ]
  },
  {
   "cell_type": "markdown",
   "metadata": {},
   "source": [
    "## Getting and Setting the Working Directory"
   ]
  },
  {
   "cell_type": "code",
   "execution_count": null,
   "metadata": {
    "collapsed": true
   },
   "outputs": [],
   "source": [
    "# Get and print current working directory.\n",
    "print(getwd())\n",
    "\n",
    "# Set current working directory.\n",
    "setwd(\"/web/com\")\n",
    "\n",
    "# Get and print current working directory.\n",
    "print(getwd())"
   ]
  },
  {
   "cell_type": "markdown",
   "metadata": {},
   "source": [
    "# Input as CSV File"
   ]
  },
  {
   "cell_type": "code",
   "execution_count": null,
   "metadata": {
    "collapsed": true
   },
   "outputs": [],
   "source": []
  },
  {
   "cell_type": "markdown",
   "metadata": {},
   "source": [
    "# Reading a CSV File"
   ]
  },
  {
   "cell_type": "code",
   "execution_count": 1,
   "metadata": {
    "collapsed": false
   },
   "outputs": [
    {
     "name": "stdout",
     "output_type": "stream",
     "text": [
      "  id     name salary start_date       dept\n",
      "1  1     Rick 623.30 2012-01-01         IT\n",
      "2  2      Dan 515.20 2013-09-23 Operations\n",
      "3  3 Michelle 611.00 2014-11-15         IT\n",
      "4  4     Ryan 729.00 2014-05-11         HR\n",
      "5 NA     Gary 843.25 2015-03-27    Finance\n",
      "6  6     Nina 578.00 2013-05-21         IT\n",
      "7  7    Simon 632.80 2013-07-30 Operations\n",
      "8  8     Guru 722.50 2014-06-17    Finance\n"
     ]
    }
   ],
   "source": [
    "data <- read.csv(\"input.csv\")\n",
    "print(data)"
   ]
  },
  {
   "cell_type": "markdown",
   "metadata": {},
   "source": [
    "# Analyzing the CSV File"
   ]
  },
  {
   "cell_type": "code",
   "execution_count": 2,
   "metadata": {
    "collapsed": false
   },
   "outputs": [
    {
     "name": "stdout",
     "output_type": "stream",
     "text": [
      "[1] TRUE\n",
      "[1] 5\n",
      "[1] 8\n"
     ]
    }
   ],
   "source": [
    "data <- read.csv(\"input.csv\")\n",
    "\n",
    "print(is.data.frame(data))\n",
    "print(ncol(data))\n",
    "print(nrow(data))"
   ]
  },
  {
   "cell_type": "markdown",
   "metadata": {},
   "source": [
    "## Get the maximum salary"
   ]
  },
  {
   "cell_type": "code",
   "execution_count": 3,
   "metadata": {
    "collapsed": false
   },
   "outputs": [
    {
     "name": "stdout",
     "output_type": "stream",
     "text": [
      "[1] 843.25\n"
     ]
    }
   ],
   "source": [
    "# Create a data frame.\n",
    "data <- read.csv(\"input.csv\")\n",
    "\n",
    "# Get the max salary from data frame.\n",
    "sal <- max(data$salary)\n",
    "print(sal)"
   ]
  },
  {
   "cell_type": "markdown",
   "metadata": {},
   "source": [
    "## Get the details of the person with max salary"
   ]
  },
  {
   "cell_type": "code",
   "execution_count": 4,
   "metadata": {
    "collapsed": false
   },
   "outputs": [
    {
     "name": "stdout",
     "output_type": "stream",
     "text": [
      "  id name salary start_date    dept\n",
      "5 NA Gary 843.25 2015-03-27 Finance\n"
     ]
    }
   ],
   "source": [
    "# Create a data frame.\n",
    "data <- read.csv(\"input.csv\")\n",
    "\n",
    "# Get the max salary from data frame.\n",
    "sal <- max(data$salary)\n",
    "\n",
    "# Get the person detail having max salary.\n",
    "retval <- subset(data, salary == max(salary))\n",
    "print(retval)"
   ]
  },
  {
   "cell_type": "markdown",
   "metadata": {},
   "source": [
    "## Get all the people working in IT department"
   ]
  },
  {
   "cell_type": "code",
   "execution_count": 5,
   "metadata": {
    "collapsed": false
   },
   "outputs": [
    {
     "name": "stdout",
     "output_type": "stream",
     "text": [
      "  id     name salary start_date dept\n",
      "1  1     Rick  623.3 2012-01-01   IT\n",
      "3  3 Michelle  611.0 2014-11-15   IT\n",
      "6  6     Nina  578.0 2013-05-21   IT\n"
     ]
    }
   ],
   "source": [
    "# Create a data frame.\n",
    "data <- read.csv(\"input.csv\")\n",
    "\n",
    "retval <- subset( data, dept == \"IT\")\n",
    "print(retval)"
   ]
  },
  {
   "cell_type": "markdown",
   "metadata": {},
   "source": [
    "## Get the persons in IT department whose salary is greater than 600"
   ]
  },
  {
   "cell_type": "code",
   "execution_count": 6,
   "metadata": {
    "collapsed": false
   },
   "outputs": [
    {
     "name": "stdout",
     "output_type": "stream",
     "text": [
      "  id     name salary start_date dept\n",
      "1  1     Rick  623.3 2012-01-01   IT\n",
      "3  3 Michelle  611.0 2014-11-15   IT\n"
     ]
    }
   ],
   "source": [
    "# Create a data frame.\n",
    "data <- read.csv(\"input.csv\")\n",
    "\n",
    "info <- subset(data, salary > 600 & dept == \"IT\")\n",
    "print(info)"
   ]
  },
  {
   "cell_type": "markdown",
   "metadata": {},
   "source": [
    "## Get the people who joined on or after 2014"
   ]
  },
  {
   "cell_type": "code",
   "execution_count": 8,
   "metadata": {
    "collapsed": false
   },
   "outputs": [
    {
     "name": "stdout",
     "output_type": "stream",
     "text": [
      "  id     name salary start_date    dept\n",
      "3  3 Michelle 611.00 2014-11-15      IT\n",
      "4  4     Ryan 729.00 2014-05-11      HR\n",
      "5 NA     Gary 843.25 2015-03-27 Finance\n",
      "8  8     Guru 722.50 2014-06-17 Finance\n"
     ]
    }
   ],
   "source": [
    "# Create a data frame.\n",
    "data <- read.csv(\"input.csv\")\n",
    "\n",
    "retval <- subset(data, as.Date(start_date) > as.Date(\"2014-01-01\"))\n",
    "print(retval)"
   ]
  },
  {
   "cell_type": "markdown",
   "metadata": {},
   "source": [
    "# Writing into a CSV File"
   ]
  },
  {
   "cell_type": "code",
   "execution_count": 9,
   "metadata": {
    "collapsed": false,
    "scrolled": true
   },
   "outputs": [
    {
     "name": "stdout",
     "output_type": "stream",
     "text": [
      "  X id     name salary start_date    dept\n",
      "1 3  3 Michelle 611.00 2014-11-15      IT\n",
      "2 4  4     Ryan 729.00 2014-05-11      HR\n",
      "3 5 NA     Gary 843.25 2015-03-27 Finance\n",
      "4 8  8     Guru 722.50 2014-06-17 Finance\n"
     ]
    }
   ],
   "source": [
    "# Create a data frame.\n",
    "data <- read.csv(\"input.csv\")\n",
    "retval <- subset(data, as.Date(start_date) > as.Date(\"2014-01-01\"))\n",
    "\n",
    "# Write filtered data into a new file.\n",
    "write.csv(retval,\"output.csv\")\n",
    "newdata <- read.csv(\"output.csv\")\n",
    "print(newdata)"
   ]
  },
  {
   "cell_type": "markdown",
   "metadata": {},
   "source": [
    "**Here the column X comes from the data set newper.**  \n",
    "**This can be dropped using additional parameters while writing the file.**  \n",
    "**\"row.names = FALSE\"**"
   ]
  },
  {
   "cell_type": "code",
   "execution_count": 10,
   "metadata": {
    "collapsed": false
   },
   "outputs": [
    {
     "name": "stdout",
     "output_type": "stream",
     "text": [
      "  id     name salary start_date    dept\n",
      "1  3 Michelle 611.00 2014-11-15      IT\n",
      "2  4     Ryan 729.00 2014-05-11      HR\n",
      "3 NA     Gary 843.25 2015-03-27 Finance\n",
      "4  8     Guru 722.50 2014-06-17 Finance\n"
     ]
    }
   ],
   "source": [
    "# Create a data frame.\n",
    "data <- read.csv(\"input.csv\")\n",
    "retval <- subset(data, as.Date(start_date) > as.Date(\"2014-01-01\"))\n",
    "\n",
    "# Write filtered data into a new file.\n",
    "write.csv(retval,\"output2.csv\", row.names = FALSE)\n",
    "newdata <- read.csv(\"output2.csv\")\n",
    "print(newdata)"
   ]
  },
  {
   "cell_type": "code",
   "execution_count": null,
   "metadata": {
    "collapsed": true
   },
   "outputs": [],
   "source": []
  }
 ],
 "metadata": {
  "anaconda-cloud": {},
  "kernelspec": {
   "display_name": "R",
   "language": "R",
   "name": "ir"
  },
  "language_info": {
   "codemirror_mode": "r",
   "file_extension": ".r",
   "mimetype": "text/x-r-source",
   "name": "R",
   "pygments_lexer": "r",
   "version": "3.3.2"
  }
 },
 "nbformat": 4,
 "nbformat_minor": 1
}
