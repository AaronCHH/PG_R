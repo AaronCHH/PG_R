{
 "cells": [
  {
   "cell_type": "markdown",
   "metadata": {},
   "source": [
    "# R - XML Files"
   ]
  },
  {
   "cell_type": "code",
   "execution_count": 1,
   "metadata": {
    "collapsed": false
   },
   "outputs": [
    {
     "name": "stderr",
     "output_type": "stream",
     "text": [
      "Installing package into 'C:/Anaconda2/Lib/site-packages/rpy2/R/win-library/3.3'\n",
      "(as 'lib' is unspecified)\n"
     ]
    },
    {
     "name": "stdout",
     "output_type": "stream",
     "text": [
      "package 'XML' successfully unpacked and MD5 sums checked\n",
      "\n",
      "The downloaded binary packages are in\n",
      "\tC:\\Users\\AaronHsu\\AppData\\Local\\Temp\\RtmpkTziJn\\downloaded_packages\n"
     ]
    }
   ],
   "source": [
    "install.packages(\"XML\", repos=\"https://ftp.yzu.edu.tw/CRAN/\")"
   ]
  },
  {
   "cell_type": "markdown",
   "metadata": {},
   "source": [
    "# Input Data"
   ]
  },
  {
   "cell_type": "code",
   "execution_count": null,
   "metadata": {
    "collapsed": true
   },
   "outputs": [],
   "source": []
  },
  {
   "cell_type": "markdown",
   "metadata": {},
   "source": [
    "# Reading XML File"
   ]
  },
  {
   "cell_type": "code",
   "execution_count": 2,
   "metadata": {
    "collapsed": false
   },
   "outputs": [
    {
     "name": "stdout",
     "output_type": "stream",
     "text": [
      "<?xml version=\"1.0\"?>\n",
      "<RECORDS>\n",
      "  <EMPLOYEE>\n",
      "    <ID>1</ID>\n",
      "    <NAME>Rick</NAME>\n",
      "    <SALARY>623.3</SALARY>\n",
      "    <STARTDATE>1/1/2012</STARTDATE>\n",
      "    <DEPT>IT</DEPT>\n",
      "  </EMPLOYEE>\n",
      "  <EMPLOYEE>\n",
      "    <ID>2</ID>\n",
      "    <NAME>Dan</NAME>\n",
      "    <SALARY>515.2</SALARY>\n",
      "    <STARTDATE>9/23/2013</STARTDATE>\n",
      "    <DEPT>Operations</DEPT>\n",
      "  </EMPLOYEE>\n",
      "  <EMPLOYEE>\n",
      "    <ID>3</ID>\n",
      "    <NAME>Michelle</NAME>\n",
      "    <SALARY>611</SALARY>\n",
      "    <STARTDATE>11/15/2014</STARTDATE>\n",
      "    <DEPT>IT</DEPT>\n",
      "  </EMPLOYEE>\n",
      "  <EMPLOYEE>\n",
      "    <ID>4</ID>\n",
      "    <NAME>Ryan</NAME>\n",
      "    <SALARY>729</SALARY>\n",
      "    <STARTDATE>5/11/2014</STARTDATE>\n",
      "    <DEPT>HR</DEPT>\n",
      "  </EMPLOYEE>\n",
      "  <EMPLOYEE>\n",
      "    <ID>5</ID>\n",
      "    <NAME>Gary</NAME>\n",
      "    <SALARY>843.25</SALARY>\n",
      "    <STARTDATE>3/27/2015</STARTDATE>\n",
      "    <DEPT>Finance</DEPT>\n",
      "  </EMPLOYEE>\n",
      "  <EMPLOYEE>\n",
      "    <ID>6</ID>\n",
      "    <NAME>Nina</NAME>\n",
      "    <SALARY>578</SALARY>\n",
      "    <STARTDATE>5/21/2013</STARTDATE>\n",
      "    <DEPT>IT</DEPT>\n",
      "  </EMPLOYEE>\n",
      "  <EMPLOYEE>\n",
      "    <ID>7</ID>\n",
      "    <NAME>Simon</NAME>\n",
      "    <SALARY>632.8</SALARY>\n",
      "    <STARTDATE>7/30/2013</STARTDATE>\n",
      "    <DEPT>Operations</DEPT>\n",
      "  </EMPLOYEE>\n",
      "  <EMPLOYEE>\n",
      "    <ID>8</ID>\n",
      "    <NAME>Guru</NAME>\n",
      "    <SALARY>722.5</SALARY>\n",
      "    <STARTDATE>6/17/2014</STARTDATE>\n",
      "    <DEPT>Finance</DEPT>\n",
      "  </EMPLOYEE>\n",
      "</RECORDS>\n",
      " \n"
     ]
    }
   ],
   "source": [
    "# Load the package required to read XML files.\n",
    "library(\"XML\")\n",
    "\n",
    "# Also load the other required package.\n",
    "library(\"methods\")\n",
    "\n",
    "# Give the input file name to the function.\n",
    "result <- xmlParse(file = \"input.xml\")\n",
    "\n",
    "# Print the result.\n",
    "print(result)"
   ]
  },
  {
   "cell_type": "markdown",
   "metadata": {},
   "source": [
    "## Get Number of Nodes Present in XML File"
   ]
  },
  {
   "cell_type": "code",
   "execution_count": 3,
   "metadata": {
    "collapsed": false
   },
   "outputs": [
    {
     "name": "stdout",
     "output_type": "stream",
     "text": [
      "[1] 8\n"
     ]
    }
   ],
   "source": [
    "# Load the packages required to read XML files.\n",
    "library(\"XML\")\n",
    "library(\"methods\")\n",
    "\n",
    "# Give the input file name to the function.\n",
    "result <- xmlParse(file = \"input.xml\")\n",
    "\n",
    "# Exract the root node form the xml file.\n",
    "rootnode <- xmlRoot(result)\n",
    "\n",
    "# Find number of nodes in the root.\n",
    "rootsize <- xmlSize(rootnode)\n",
    "\n",
    "# Print the result.\n",
    "print(rootsize)"
   ]
  },
  {
   "cell_type": "markdown",
   "metadata": {},
   "source": [
    "# Details of the First Node"
   ]
  },
  {
   "cell_type": "code",
   "execution_count": 4,
   "metadata": {
    "collapsed": false
   },
   "outputs": [
    {
     "name": "stdout",
     "output_type": "stream",
     "text": [
      "$EMPLOYEE\n",
      "<EMPLOYEE>\n",
      "  <ID>1</ID>\n",
      "  <NAME>Rick</NAME>\n",
      "  <SALARY>623.3</SALARY>\n",
      "  <STARTDATE>1/1/2012</STARTDATE>\n",
      "  <DEPT>IT</DEPT>\n",
      "</EMPLOYEE> \n",
      "\n",
      "attr(,\"class\")\n",
      "[1] \"XMLInternalNodeList\" \"XMLNodeList\"        \n"
     ]
    }
   ],
   "source": [
    "# Load the packages required to read XML files.\n",
    "library(\"XML\")\n",
    "library(\"methods\")\n",
    "\n",
    "# Give the input file name to the function.\n",
    "result <- xmlParse(file = \"input.xml\")\n",
    "\n",
    "# Exract the root node form the xml file.\n",
    "rootnode <- xmlRoot(result)\n",
    "\n",
    "# Print the result.\n",
    "print(rootnode[1])"
   ]
  },
  {
   "cell_type": "markdown",
   "metadata": {},
   "source": [
    "## Get Different Elements of a Node"
   ]
  },
  {
   "cell_type": "code",
   "execution_count": 5,
   "metadata": {
    "collapsed": false
   },
   "outputs": [
    {
     "name": "stdout",
     "output_type": "stream",
     "text": [
      "<ID>1</ID> \n",
      "<DEPT>IT</DEPT> \n",
      "<NAME>Michelle</NAME> \n"
     ]
    }
   ],
   "source": [
    "# Load the packages required to read XML files.\n",
    "library(\"XML\")\n",
    "library(\"methods\")\n",
    "\n",
    "# Give the input file name to the function.\n",
    "result <- xmlParse(file = \"input.xml\")\n",
    "\n",
    "# Exract the root node form the xml file.\n",
    "rootnode <- xmlRoot(result)\n",
    "\n",
    "# Get the first element of the first node.\n",
    "print(rootnode[[1]][[1]])\n",
    "\n",
    "# Get the fifth element of the first node.\n",
    "print(rootnode[[1]][[5]])\n",
    "\n",
    "# Get the second element of the third node.\n",
    "print(rootnode[[3]][[2]])"
   ]
  },
  {
   "cell_type": "markdown",
   "metadata": {},
   "source": [
    "# XML to Data Frame"
   ]
  },
  {
   "cell_type": "code",
   "execution_count": 6,
   "metadata": {
    "collapsed": false
   },
   "outputs": [
    {
     "name": "stdout",
     "output_type": "stream",
     "text": [
      "  ID     NAME SALARY  STARTDATE       DEPT\n",
      "1  1     Rick  623.3   1/1/2012         IT\n",
      "2  2      Dan  515.2  9/23/2013 Operations\n",
      "3  3 Michelle    611 11/15/2014         IT\n",
      "4  4     Ryan    729  5/11/2014         HR\n",
      "5  5     Gary 843.25  3/27/2015    Finance\n",
      "6  6     Nina    578  5/21/2013         IT\n",
      "7  7    Simon  632.8  7/30/2013 Operations\n",
      "8  8     Guru  722.5  6/17/2014    Finance\n"
     ]
    }
   ],
   "source": [
    "# Load the packages required to read XML files.\n",
    "library(\"XML\")\n",
    "library(\"methods\")\n",
    "\n",
    "# Convert the input xml file to a data frame.\n",
    "xmldataframe <- xmlToDataFrame(\"input.xml\")\n",
    "print(xmldataframe)"
   ]
  },
  {
   "cell_type": "code",
   "execution_count": null,
   "metadata": {
    "collapsed": true
   },
   "outputs": [],
   "source": []
  }
 ],
 "metadata": {
  "kernelspec": {
   "display_name": "R",
   "language": "R",
   "name": "ir"
  },
  "language_info": {
   "codemirror_mode": "r",
   "file_extension": ".r",
   "mimetype": "text/x-r-source",
   "name": "R",
   "pygments_lexer": "r",
   "version": "3.3.2"
  }
 },
 "nbformat": 4,
 "nbformat_minor": 1
}
