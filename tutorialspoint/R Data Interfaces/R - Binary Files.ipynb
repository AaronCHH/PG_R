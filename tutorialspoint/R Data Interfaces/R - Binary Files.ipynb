{
 "cells": [
  {
   "cell_type": "markdown",
   "metadata": {},
   "source": [
    "# Syntax"
   ]
  },
  {
   "cell_type": "code",
   "execution_count": null,
   "metadata": {
    "collapsed": true
   },
   "outputs": [],
   "source": [
    "writeBin(object, con)\n",
    "readBin(con, what, n )"
   ]
  },
  {
   "cell_type": "markdown",
   "metadata": {},
   "source": [
    "# Example"
   ]
  },
  {
   "cell_type": "markdown",
   "metadata": {},
   "source": [
    "# Writing the Binary File"
   ]
  },
  {
   "cell_type": "code",
   "execution_count": null,
   "metadata": {
    "collapsed": true
   },
   "outputs": [],
   "source": [
    "# Read the \"mtcars\" data frame as a csv file and store only the columns \"cyl\", \"am\" and \"gear\".\n",
    "write.table(mtcars, \n",
    "            file = \"mtcars.csv\",\n",
    "            row.names = FALSE, na = \"\", \n",
    "            col.names = TRUE, sep = \",\")\n",
    "\n",
    "# Store 5 records from the csv file as a new data frame.\n",
    "new.mtcars <- read.table(\"mtcars.csv\",sep = \",\",\n",
    "                         header = TRUE,\n",
    "                         nrows = 5)"
   ]
  },
  {
   "cell_type": "code",
   "execution_count": 4,
   "metadata": {
    "collapsed": false
   },
   "outputs": [
    {
     "data": {
      "text/html": [
       "<table>\n",
       "<thead><tr><th scope=col>mpg</th><th scope=col>cyl</th><th scope=col>disp</th><th scope=col>hp</th><th scope=col>drat</th><th scope=col>wt</th><th scope=col>qsec</th><th scope=col>vs</th><th scope=col>am</th><th scope=col>gear</th><th scope=col>carb</th></tr></thead>\n",
       "<tbody>\n",
       "\t<tr><td>21.0 </td><td>6    </td><td>160  </td><td>110  </td><td>3.90 </td><td>2.620</td><td>16.46</td><td>0    </td><td>1    </td><td>4    </td><td>4    </td></tr>\n",
       "\t<tr><td>21.0 </td><td>6    </td><td>160  </td><td>110  </td><td>3.90 </td><td>2.875</td><td>17.02</td><td>0    </td><td>1    </td><td>4    </td><td>4    </td></tr>\n",
       "\t<tr><td>22.8 </td><td>4    </td><td>108  </td><td> 93  </td><td>3.85 </td><td>2.320</td><td>18.61</td><td>1    </td><td>1    </td><td>4    </td><td>1    </td></tr>\n",
       "\t<tr><td>21.4 </td><td>6    </td><td>258  </td><td>110  </td><td>3.08 </td><td>3.215</td><td>19.44</td><td>1    </td><td>0    </td><td>3    </td><td>1    </td></tr>\n",
       "\t<tr><td>18.7 </td><td>8    </td><td>360  </td><td>175  </td><td>3.15 </td><td>3.440</td><td>17.02</td><td>0    </td><td>0    </td><td>3    </td><td>2    </td></tr>\n",
       "</tbody>\n",
       "</table>\n"
      ],
      "text/latex": [
       "\\begin{tabular}{r|lllllllllll}\n",
       " mpg & cyl & disp & hp & drat & wt & qsec & vs & am & gear & carb\\\\\n",
       "\\hline\n",
       "\t 21.0  & 6     & 160   & 110   & 3.90  & 2.620 & 16.46 & 0     & 1     & 4     & 4    \\\\\n",
       "\t 21.0  & 6     & 160   & 110   & 3.90  & 2.875 & 17.02 & 0     & 1     & 4     & 4    \\\\\n",
       "\t 22.8  & 4     & 108   &  93   & 3.85  & 2.320 & 18.61 & 1     & 1     & 4     & 1    \\\\\n",
       "\t 21.4  & 6     & 258   & 110   & 3.08  & 3.215 & 19.44 & 1     & 0     & 3     & 1    \\\\\n",
       "\t 18.7  & 8     & 360   & 175   & 3.15  & 3.440 & 17.02 & 0     & 0     & 3     & 2    \\\\\n",
       "\\end{tabular}\n"
      ],
      "text/plain": [
       "  mpg  cyl disp hp  drat wt    qsec  vs am gear carb\n",
       "1 21.0 6   160  110 3.90 2.620 16.46 0  1  4    4   \n",
       "2 21.0 6   160  110 3.90 2.875 17.02 0  1  4    4   \n",
       "3 22.8 4   108   93 3.85 2.320 18.61 1  1  4    1   \n",
       "4 21.4 6   258  110 3.08 3.215 19.44 1  0  3    1   \n",
       "5 18.7 8   360  175 3.15 3.440 17.02 0  0  3    2   "
      ]
     },
     "metadata": {},
     "output_type": "display_data"
    }
   ],
   "source": [
    "new.mtcars"
   ]
  },
  {
   "cell_type": "code",
   "execution_count": 2,
   "metadata": {
    "collapsed": false
   },
   "outputs": [],
   "source": [
    "# Create a connection object to write the binary file using mode \"wb\".\n",
    "write.filename = file(\"binmtcars.dat\", \"wb\")\n",
    "\n",
    "# Write the column names of the data frame to the connection object.\n",
    "writeBin(colnames(new.mtcars), write.filename)\n",
    "\n",
    "# Write the records in each of the column to the file.\n",
    "writeBin(c(new.mtcars$cyl,new.mtcars$am,new.mtcars$gear), write.filename)\n",
    "\n",
    "# Close the file for writing so that it can be read by other program.\n",
    "close(write.filename)"
   ]
  },
  {
   "cell_type": "markdown",
   "metadata": {},
   "source": [
    "# Reading the Binary File"
   ]
  },
  {
   "cell_type": "code",
   "execution_count": 6,
   "metadata": {
    "collapsed": true
   },
   "outputs": [],
   "source": [
    "# Create a connection object to read the file in binary mode using \"rb\".\n",
    "read.filename <- file(\"binmtcars.dat\", \"rb\")\n",
    "\n",
    "# First read the column names. n = 3 as we have 3 columns.\n",
    "column.names <- readBin(read.filename, character(),  n = 3)\n",
    "\n",
    "# Next read the column values. n = 18 as we have 3 column names and 15 values.\n",
    "read.filename <- file(\"binmtcars.dat\", \"rb\")\n",
    "bindata <- readBin(read.filename, integer(),  n = 18)"
   ]
  },
  {
   "cell_type": "code",
   "execution_count": 7,
   "metadata": {
    "collapsed": false
   },
   "outputs": [
    {
     "name": "stdout",
     "output_type": "stream",
     "text": [
      " [1]    6778989    7108963 1886611812    7366656 1952543332    7632640\n",
      " [7] 1667593073    7566848 1728081249    7496037 1651663203       1536\n",
      "[13]       1536       1024       1536       2048        256        256\n"
     ]
    }
   ],
   "source": [
    "# Print the data.\n",
    "print(bindata)"
   ]
  },
  {
   "cell_type": "code",
   "execution_count": 8,
   "metadata": {
    "collapsed": false
   },
   "outputs": [
    {
     "name": "stdout",
     "output_type": "stream",
     "text": [
      "[1]    7366656 1952543332    7632640 1667593073    7566848\n"
     ]
    }
   ],
   "source": [
    "# Read the values from 4th byte to 8th byte which represents \"cyl\".\n",
    "cyldata = bindata[4:8]\n",
    "print(cyldata)"
   ]
  },
  {
   "cell_type": "code",
   "execution_count": 9,
   "metadata": {
    "collapsed": false
   },
   "outputs": [
    {
     "name": "stdout",
     "output_type": "stream",
     "text": [
      "[1] 1728081249    7496037 1651663203       1536       1536\n"
     ]
    }
   ],
   "source": [
    "# Read the values form 9th byte to 13th byte which represents \"am\".\n",
    "amdata = bindata[9:13]\n",
    "print(amdata)"
   ]
  },
  {
   "cell_type": "code",
   "execution_count": 10,
   "metadata": {
    "collapsed": false
   },
   "outputs": [
    {
     "name": "stdout",
     "output_type": "stream",
     "text": [
      "[1] 1024 1536 2048  256  256\n"
     ]
    }
   ],
   "source": [
    "# Read the values form 9th byte to 13th byte which represents \"gear\".\n",
    "geardata = bindata[14:18]\n",
    "print(geardata)"
   ]
  },
  {
   "cell_type": "code",
   "execution_count": 11,
   "metadata": {
    "collapsed": false
   },
   "outputs": [
    {
     "name": "stdout",
     "output_type": "stream",
     "text": [
      "            mpg        cyl disp\n",
      "[1,]    7366656 1728081249 1024\n",
      "[2,] 1952543332    7496037 1536\n",
      "[3,]    7632640 1651663203 2048\n",
      "[4,] 1667593073       1536  256\n",
      "[5,]    7566848       1536  256\n"
     ]
    }
   ],
   "source": [
    "# Combine all the read values to a dat frame.\n",
    "finaldata = cbind(cyldata, amdata, geardata)\n",
    "colnames(finaldata) = column.names\n",
    "print(finaldata)"
   ]
  },
  {
   "cell_type": "code",
   "execution_count": null,
   "metadata": {
    "collapsed": true
   },
   "outputs": [],
   "source": []
  }
 ],
 "metadata": {
  "kernelspec": {
   "display_name": "R",
   "language": "R",
   "name": "ir"
  },
  "language_info": {
   "codemirror_mode": "r",
   "file_extension": ".r",
   "mimetype": "text/x-r-source",
   "name": "R",
   "pygments_lexer": "r",
   "version": "3.3.2"
  }
 },
 "nbformat": 4,
 "nbformat_minor": 1
}
