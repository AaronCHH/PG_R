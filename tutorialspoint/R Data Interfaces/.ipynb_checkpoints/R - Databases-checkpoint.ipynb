{
 "cells": [
  {
   "cell_type": "markdown",
   "metadata": {},
   "source": [
    "# R - Databases"
   ]
  },
  {
   "cell_type": "markdown",
   "metadata": {},
   "source": [
    "# RMySQL Package"
   ]
  },
  {
   "cell_type": "code",
   "execution_count": null,
   "metadata": {
    "collapsed": true
   },
   "outputs": [],
   "source": [
    "install.packages(\"RMySQL\")"
   ]
  },
  {
   "cell_type": "markdown",
   "metadata": {},
   "source": [
    "# Connecting R to MySql"
   ]
  },
  {
   "cell_type": "code",
   "execution_count": 4,
   "metadata": {
    "collapsed": false
   },
   "outputs": [],
   "source": [
    "library(\"RMySQL\")"
   ]
  },
  {
   "cell_type": "code",
   "execution_count": 5,
   "metadata": {
    "collapsed": false
   },
   "outputs": [
    {
     "ename": "ERROR",
     "evalue": "Error in .local(drv, ...): Failed to connect to database: Error: Access denied for user 'root'@'localhost' (using password: NO)\n\n",
     "output_type": "error",
     "traceback": [
      "Error in .local(drv, ...): Failed to connect to database: Error: Access denied for user 'root'@'localhost' (using password: NO)\n\nTraceback:\n",
      "1. dbConnect(MySQL(), user = \"root\", password = \"\", dbname = \"sakila\", \n .     host = \"localhost\")",
      "2. dbConnect(MySQL(), user = \"root\", password = \"\", dbname = \"sakila\", \n .     host = \"localhost\")",
      "3. .local(drv, ...)"
     ]
    }
   ],
   "source": [
    "# Create a connection Object to MySQL database.\n",
    "# We will connect to the sampel database named \"sakila\" that comes with MySql installation.\n",
    "mysqlconnection = dbConnect(MySQL(), \n",
    "                            user = 'root', \n",
    "                            password = '', \n",
    "                            dbname = 'sakila',\n",
    "                            host = 'localhost')\n",
    "\n",
    "# List the tables available in this database.\n",
    "dbListTables(mysqlconnection)"
   ]
  },
  {
   "cell_type": "markdown",
   "metadata": {},
   "source": [
    "# Querying the Tables"
   ]
  },
  {
   "cell_type": "code",
   "execution_count": 6,
   "metadata": {
    "collapsed": false
   },
   "outputs": [
    {
     "ename": "ERROR",
     "evalue": "Error in dbSendQuery(mysqlconnection, \"select * from actor\"): 找不到物件 'mysqlconnection'\n",
     "output_type": "error",
     "traceback": [
      "Error in dbSendQuery(mysqlconnection, \"select * from actor\"): 找不到物件 'mysqlconnection'\nTraceback:\n",
      "1. dbSendQuery(mysqlconnection, \"select * from actor\")"
     ]
    }
   ],
   "source": [
    "# Query the \"actor\" tables to get all the rows.\n",
    "result = dbSendQuery(mysqlconnection, \"select * from actor\")\n",
    "\n",
    "# Store the result in a R data frame object. n = 5 is used to fetch first 5 rows.\n",
    "data.frame = fetch(result, n = 5)\n",
    "print(data.fame)"
   ]
  },
  {
   "cell_type": "markdown",
   "metadata": {},
   "source": [
    "# Updating Rows in the Tables"
   ]
  },
  {
   "cell_type": "code",
   "execution_count": 7,
   "metadata": {
    "collapsed": false
   },
   "outputs": [
    {
     "ename": "ERROR",
     "evalue": "Error in dbSendQuery(mysqlconnection, \"update mtcars set disp = 168.5 where hp = 110\"): 找不到物件 'mysqlconnection'\n",
     "output_type": "error",
     "traceback": [
      "Error in dbSendQuery(mysqlconnection, \"update mtcars set disp = 168.5 where hp = 110\"): 找不到物件 'mysqlconnection'\nTraceback:\n",
      "1. dbSendQuery(mysqlconnection, \"update mtcars set disp = 168.5 where hp = 110\")"
     ]
    }
   ],
   "source": [
    "dbSendQuery(mysqlconnection, \"update mtcars set disp = 168.5 where hp = 110\")"
   ]
  },
  {
   "cell_type": "markdown",
   "metadata": {},
   "source": [
    "# Inserting Data into the Tables"
   ]
  },
  {
   "cell_type": "code",
   "execution_count": 8,
   "metadata": {
    "collapsed": false
   },
   "outputs": [
    {
     "ename": "ERROR",
     "evalue": "Error in dbSendQuery(mysqlconnection, \"insert into mtcars(row_names, mpg, cyl, disp, hp, drat, wt, qsec, vs, am, gear, carb)\\n   values('New Mazda RX4 Wag', 21, 6, 168.5, 110, 3.9, 2.875, 17.02, 0, 1, 4, 4)\"): 找不到物件 'mysqlconnection'\n",
     "output_type": "error",
     "traceback": [
      "Error in dbSendQuery(mysqlconnection, \"insert into mtcars(row_names, mpg, cyl, disp, hp, drat, wt, qsec, vs, am, gear, carb)\\n   values('New Mazda RX4 Wag', 21, 6, 168.5, 110, 3.9, 2.875, 17.02, 0, 1, 4, 4)\"): 找不到物件 'mysqlconnection'\nTraceback:\n",
      "1. dbSendQuery(mysqlconnection, \"insert into mtcars(row_names, mpg, cyl, disp, hp, drat, wt, qsec, vs, am, gear, carb)\\n   values('New Mazda RX4 Wag', 21, 6, 168.5, 110, 3.9, 2.875, 17.02, 0, 1, 4, 4)\")"
     ]
    }
   ],
   "source": [
    "dbSendQuery(mysqlconnection,\n",
    "   \"insert into mtcars(row_names, mpg, cyl, disp, hp, drat, wt, qsec, vs, am, gear, carb)\n",
    "   values('New Mazda RX4 Wag', 21, 6, 168.5, 110, 3.9, 2.875, 17.02, 0, 1, 4, 4)\"\n",
    ")"
   ]
  },
  {
   "cell_type": "markdown",
   "metadata": {},
   "source": [
    "# Creating Tables in MySql"
   ]
  },
  {
   "cell_type": "code",
   "execution_count": 10,
   "metadata": {
    "collapsed": false,
    "scrolled": true
   },
   "outputs": [
    {
     "ename": "ERROR",
     "evalue": "Error in .local(drv, ...): Failed to connect to database: Error: Access denied for user 'root'@'localhost' (using password: NO)\n\n",
     "output_type": "error",
     "traceback": [
      "Error in .local(drv, ...): Failed to connect to database: Error: Access denied for user 'root'@'localhost' (using password: NO)\n\nTraceback:\n",
      "1. dbConnect(MySQL(), user = \"root\", password = \"\", dbname = \"sakila\", \n .     host = \"localhost\")",
      "2. dbConnect(MySQL(), user = \"root\", password = \"\", dbname = \"sakila\", \n .     host = \"localhost\")",
      "3. .local(drv, ...)"
     ]
    }
   ],
   "source": [
    "# Create the connection object to the database where we want to create the table.\n",
    "mysqlconnection = dbConnect(MySQL(), \n",
    "                            user = 'root', \n",
    "                            password = '', \n",
    "                            dbname = 'sakila', \n",
    "                            host = 'localhost')\n",
    "\n",
    "# Use the R data frame \"mtcars\" to create the table in MySql.\n",
    "# All the rows of mtcars are taken inot MySql.\n",
    "dbWriteTable(mysqlconnection, \"mtcars\", mtcars[, ], overwrite = TRUE)"
   ]
  },
  {
   "cell_type": "markdown",
   "metadata": {},
   "source": [
    "# Dropping Tables in MySql"
   ]
  },
  {
   "cell_type": "code",
   "execution_count": 11,
   "metadata": {
    "collapsed": false
   },
   "outputs": [
    {
     "ename": "ERROR",
     "evalue": "Error in dbSendQuery(mysqlconnection, \"drop table if exists mtcars\"): 找不到物件 'mysqlconnection'\n",
     "output_type": "error",
     "traceback": [
      "Error in dbSendQuery(mysqlconnection, \"drop table if exists mtcars\"): 找不到物件 'mysqlconnection'\nTraceback:\n",
      "1. dbSendQuery(mysqlconnection, \"drop table if exists mtcars\")"
     ]
    }
   ],
   "source": [
    "dbSendQuery(mysqlconnection, 'drop table if exists mtcars')"
   ]
  },
  {
   "cell_type": "code",
   "execution_count": null,
   "metadata": {
    "collapsed": true
   },
   "outputs": [],
   "source": []
  }
 ],
 "metadata": {
  "kernelspec": {
   "display_name": "R",
   "language": "R",
   "name": "ir"
  },
  "language_info": {
   "codemirror_mode": "r",
   "file_extension": ".r",
   "mimetype": "text/x-r-source",
   "name": "R",
   "pygments_lexer": "r",
   "version": "3.3.2"
  }
 },
 "nbformat": 4,
 "nbformat_minor": 1
}
