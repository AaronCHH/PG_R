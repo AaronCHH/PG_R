{
 "cells": [
  {
   "cell_type": "markdown",
   "metadata": {},
   "source": [
    "# R - JSON Files"
   ]
  },
  {
   "cell_type": "code",
   "execution_count": 1,
   "metadata": {
    "collapsed": false
   },
   "outputs": [
    {
     "name": "stderr",
     "output_type": "stream",
     "text": [
      "Installing package into 'C:/Anaconda2/Lib/site-packages/rpy2/R/win-library/3.3'\n",
      "(as 'lib' is unspecified)\n"
     ]
    },
    {
     "name": "stdout",
     "output_type": "stream",
     "text": [
      "package 'rjson' successfully unpacked and MD5 sums checked\n",
      "\n",
      "The downloaded binary packages are in\n",
      "\tC:\\Users\\AaronHsu\\AppData\\Local\\Temp\\RtmpMfVtcp\\downloaded_packages\n"
     ]
    }
   ],
   "source": [
    "install.packages(\"rjson\",repos=\"https://ftp.yzu.edu.tw/CRAN/\")"
   ]
  },
  {
   "cell_type": "markdown",
   "metadata": {},
   "source": [
    "# Input Data"
   ]
  },
  {
   "cell_type": "code",
   "execution_count": null,
   "metadata": {
    "collapsed": true
   },
   "outputs": [],
   "source": []
  },
  {
   "cell_type": "markdown",
   "metadata": {},
   "source": [
    "# Read the JSON File"
   ]
  },
  {
   "cell_type": "code",
   "execution_count": 2,
   "metadata": {
    "collapsed": false
   },
   "outputs": [
    {
     "name": "stdout",
     "output_type": "stream",
     "text": [
      "$ID\n",
      "[1] \"1\" \"2\" \"3\" \"4\" \"5\" \"6\" \"7\" \"8\"\n",
      "\n",
      "$Name\n",
      "[1] \"Rick\"     \"Dan\"      \"Michelle\" \"Ryan\"     \"Gary\"     \"Nina\"     \"Simon\"   \n",
      "[8] \"Guru\"    \n",
      "\n",
      "$Salary\n",
      "[1] \"623.3\"  \"515.2\"  \"611\"    \"729\"    \"843.25\" \"578\"    \"632.8\"  \"722.5\" \n",
      "\n",
      "$StartDate\n",
      "[1] \"1/1/2012\"   \"9/23/2013\"  \"11/15/2014\" \"5/11/2014\"  \"3/27/2015\" \n",
      "[6] \"5/21/2013\"  \"7/30/2013\"  \"6/17/2014\" \n",
      "\n",
      "$Dept\n",
      "[1] \"IT\"         \"Operations\" \"IT\"         \"HR\"         \"Finance\"   \n",
      "[6] \"IT\"         \"Operations\" \"Finance\"   \n",
      "\n"
     ]
    }
   ],
   "source": [
    "# Load the package required to read JSON files.\n",
    "library(\"rjson\")\n",
    "\n",
    "# Give the input file name to the function.\n",
    "result <- fromJSON(file = \"input.json\")\n",
    "\n",
    "# Print the result.\n",
    "print(result)"
   ]
  },
  {
   "cell_type": "markdown",
   "metadata": {},
   "source": [
    "# Convert JSON to a Data Frame"
   ]
  },
  {
   "cell_type": "code",
   "execution_count": 3,
   "metadata": {
    "collapsed": false
   },
   "outputs": [
    {
     "name": "stdout",
     "output_type": "stream",
     "text": [
      "  ID     Name Salary  StartDate       Dept\n",
      "1  1     Rick  623.3   1/1/2012         IT\n",
      "2  2      Dan  515.2  9/23/2013 Operations\n",
      "3  3 Michelle    611 11/15/2014         IT\n",
      "4  4     Ryan    729  5/11/2014         HR\n",
      "5  5     Gary 843.25  3/27/2015    Finance\n",
      "6  6     Nina    578  5/21/2013         IT\n",
      "7  7    Simon  632.8  7/30/2013 Operations\n",
      "8  8     Guru  722.5  6/17/2014    Finance\n"
     ]
    }
   ],
   "source": [
    "# Load the package required to read JSON files.\n",
    "library(\"rjson\")\n",
    "\n",
    "# Give the input file name to the function.\n",
    "result <- fromJSON(file = \"input.json\")\n",
    "\n",
    "# Convert JSON file to a data frame.\n",
    "json_data_frame <- as.data.frame(result)\n",
    "\n",
    "print(json_data_frame)"
   ]
  },
  {
   "cell_type": "code",
   "execution_count": null,
   "metadata": {
    "collapsed": true
   },
   "outputs": [],
   "source": []
  }
 ],
 "metadata": {
  "kernelspec": {
   "display_name": "R",
   "language": "R",
   "name": "ir"
  },
  "language_info": {
   "codemirror_mode": "r",
   "file_extension": ".r",
   "mimetype": "text/x-r-source",
   "name": "R",
   "pygments_lexer": "r",
   "version": "3.3.2"
  }
 },
 "nbformat": 4,
 "nbformat_minor": 1
}
