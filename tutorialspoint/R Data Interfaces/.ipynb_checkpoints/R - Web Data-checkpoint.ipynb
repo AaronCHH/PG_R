{
 "cells": [
  {
   "cell_type": "markdown",
   "metadata": {},
   "source": [
    "# R - Web Data"
   ]
  },
  {
   "cell_type": "markdown",
   "metadata": {},
   "source": [
    "# Install R Packages"
   ]
  },
  {
   "cell_type": "code",
   "execution_count": null,
   "metadata": {
    "collapsed": true
   },
   "outputs": [],
   "source": [
    "install.packages(\"RCurl\")\n",
    "install.packages(\"XML\")\n",
    "install.packages(\"stringr\")\n",
    "install.packages(\"plyr\")"
   ]
  },
  {
   "cell_type": "markdown",
   "metadata": {},
   "source": [
    "# Input Data"
   ]
  },
  {
   "cell_type": "markdown",
   "metadata": {},
   "source": [
    "# Example"
   ]
  },
  {
   "cell_type": "code",
   "execution_count": 2,
   "metadata": {
    "collapsed": false
   },
   "outputs": [
    {
     "name": "stderr",
     "output_type": "stream",
     "text": [
      "Loading required package: bitops\n"
     ]
    }
   ],
   "source": [
    "library(\"RCurl\")\n",
    "library(\"XML\")\n",
    "library(\"stringr\")\n",
    "library(\"plyr\")"
   ]
  },
  {
   "cell_type": "code",
   "execution_count": 3,
   "metadata": {
    "collapsed": false
   },
   "outputs": [],
   "source": [
    "# Read the URL.\n",
    "url <- \"http://www.geos.ed.ac.uk/~weather/jcmb_ws/\"\n",
    "\n",
    "# Gather the html links present in the webpage.\n",
    "links <- getHTMLLinks(url)\n",
    "\n",
    "# Identify only the links which point to the JCMB 2015 files. \n",
    "filenames <- links[str_detect(links, \"JCMB_2015\")]\n",
    "\n",
    "# Store the file names as a list.\n",
    "filenames_list <- as.list(filenames)\n",
    "\n",
    "# Create a function to download the files by passing the URL and filename list.\n",
    "downloadcsv <- function (mainurl,filename) {\n",
    "   filedetails <- str_c(mainurl,filename)\n",
    "   download.file(filedetails,filename)\n",
    "}\n",
    "\n",
    "# Now apply the l_ply function and save the files into the current R working directory.\n",
    "l_ply(filenames,downloadcsv,mainurl = \"http://www.geos.ed.ac.uk/~weather/jcmb_ws/\")"
   ]
  },
  {
   "cell_type": "code",
   "execution_count": null,
   "metadata": {
    "collapsed": true
   },
   "outputs": [],
   "source": []
  }
 ],
 "metadata": {
  "anaconda-cloud": {},
  "kernelspec": {
   "display_name": "R",
   "language": "R",
   "name": "ir"
  },
  "language_info": {
   "codemirror_mode": "r",
   "file_extension": ".r",
   "mimetype": "text/x-r-source",
   "name": "R",
   "pygments_lexer": "r",
   "version": "3.3.2"
  }
 },
 "nbformat": 4,
 "nbformat_minor": 1
}
