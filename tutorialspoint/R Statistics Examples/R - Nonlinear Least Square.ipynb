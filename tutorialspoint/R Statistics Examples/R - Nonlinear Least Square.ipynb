{
 "cells": [
  {
   "cell_type": "markdown",
   "metadata": {},
   "source": [
    "# R - Nonlinear Least Square"
   ]
  },
  {
   "cell_type": "markdown",
   "metadata": {},
   "source": [
    "# Syntax"
   ]
  },
  {
   "cell_type": "markdown",
   "metadata": {},
   "source": [
    "```\n",
    "nls(formula, data, start)\n",
    "```"
   ]
  },
  {
   "cell_type": "markdown",
   "metadata": {},
   "source": [
    "# Example"
   ]
  },
  {
   "cell_type": "markdown",
   "metadata": {},
   "source": [
    "```\n",
    "a = b1*x^2+b2\n",
    "```"
   ]
  },
  {
   "cell_type": "code",
   "execution_count": 2,
   "metadata": {
    "collapsed": false
   },
   "outputs": [
    {
     "data": {
      "text/html": [
       "<strong>png:</strong> 2"
      ],
      "text/latex": [
       "\\textbf{png:} 2"
      ],
      "text/markdown": [
       "**png:** 2"
      ],
      "text/plain": [
       "png \n",
       "  2 "
      ]
     },
     "metadata": {},
     "output_type": "display_data"
    },
    {
     "name": "stdout",
     "output_type": "stream",
     "text": [
      "[1] 1.081935\n"
     ]
    },
    {
     "name": "stderr",
     "output_type": "stream",
     "text": [
      "Waiting for profiling to be done...\n"
     ]
    },
    {
     "name": "stdout",
     "output_type": "stream",
     "text": [
      "       2.5%    97.5%\n",
      "b1 1.137708 1.253135\n",
      "b2 1.497364 2.496484\n"
     ]
    }
   ],
   "source": [
    "xvalues <- c(1.6,2.1,2,2.23,3.71,3.25,3.4,3.86,1.19,2.21)\n",
    "yvalues <- c(5.19,7.43,6.94,8.11,18.75,14.88,16.06,19.12,3.21,7.58)\n",
    "\n",
    "# Give the chart file a name.\n",
    "png(file = \"nls.png\")\n",
    "\n",
    "\n",
    "# Plot these values.\n",
    "plot(xvalues,yvalues)\n",
    "\n",
    "\n",
    "# Take the assumed values and fit into the model.\n",
    "model <- nls(yvalues ~ b1*xvalues^2 + b2,\n",
    "             start = list(b1 = 1,b2 = 3))\n",
    "\n",
    "# Plot the chart with new data by fitting it to a prediction from 100 data points.\n",
    "new.data <- data.frame(xvalues = seq(min(xvalues), \n",
    "                                     max(xvalues), \n",
    "                                     len = 100))\n",
    "\n",
    "lines(new.data$xvalues,predict(model,newdata = new.data))\n",
    "\n",
    "# Save the file.\n",
    "dev.off()\n",
    "\n",
    "# Get the sum of the squared residuals.\n",
    "print(sum(resid(model)^2))\n",
    "\n",
    "# Get the confidence intervals on the chosen values of the coefficients.\n",
    "print(confint(model))"
   ]
  },
  {
   "cell_type": "code",
   "execution_count": null,
   "metadata": {
    "collapsed": true
   },
   "outputs": [],
   "source": []
  }
 ],
 "metadata": {
  "kernelspec": {
   "display_name": "R",
   "language": "R",
   "name": "ir"
  },
  "language_info": {
   "codemirror_mode": "r",
   "file_extension": ".r",
   "mimetype": "text/x-r-source",
   "name": "R",
   "pygments_lexer": "r",
   "version": "3.3.2"
  }
 },
 "nbformat": 4,
 "nbformat_minor": 1
}
