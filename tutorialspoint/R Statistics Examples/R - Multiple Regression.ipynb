{
 "cells": [
  {
   "cell_type": "markdown",
   "metadata": {},
   "source": [
    "# R - Multiple Regression"
   ]
  },
  {
   "cell_type": "markdown",
   "metadata": {},
   "source": [
    "```\n",
    "y = a + b1x1 + b2x2 +...bnxn\n",
    "```"
   ]
  },
  {
   "cell_type": "markdown",
   "metadata": {},
   "source": [
    "# lm() Function"
   ]
  },
  {
   "cell_type": "markdown",
   "metadata": {},
   "source": [
    "## Syntax"
   ]
  },
  {
   "cell_type": "markdown",
   "metadata": {},
   "source": [
    "```\n",
    "lm(y ~ x1+x2+x3...,data)\n",
    "```"
   ]
  },
  {
   "cell_type": "markdown",
   "metadata": {},
   "source": [
    "# Example"
   ]
  },
  {
   "cell_type": "markdown",
   "metadata": {},
   "source": [
    "## Input Data"
   ]
  },
  {
   "cell_type": "code",
   "execution_count": 2,
   "metadata": {
    "collapsed": false
   },
   "outputs": [
    {
     "name": "stdout",
     "output_type": "stream",
     "text": [
      "                   mpg disp  hp    wt\n",
      "Mazda RX4         21.0  160 110 2.620\n",
      "Mazda RX4 Wag     21.0  160 110 2.875\n",
      "Datsun 710        22.8  108  93 2.320\n",
      "Hornet 4 Drive    21.4  258 110 3.215\n",
      "Hornet Sportabout 18.7  360 175 3.440\n",
      "Valiant           18.1  225 105 3.460\n"
     ]
    }
   ],
   "source": [
    "input <- mtcars[,c(\"mpg\",\"disp\",\"hp\",\"wt\")]\n",
    "print(head(input))"
   ]
  },
  {
   "cell_type": "markdown",
   "metadata": {},
   "source": [
    "## Create Relationship Model & get the Coefficients"
   ]
  },
  {
   "cell_type": "code",
   "execution_count": 3,
   "metadata": {
    "collapsed": false
   },
   "outputs": [
    {
     "name": "stdout",
     "output_type": "stream",
     "text": [
      "\n",
      "Call:\n",
      "lm(formula = mpg ~ disp + hp + wt, data = input)\n",
      "\n",
      "Coefficients:\n",
      "(Intercept)         disp           hp           wt  \n",
      "  37.105505    -0.000937    -0.031157    -3.800891  \n",
      "\n",
      "# # # # The Coefficient Values # # #  \n",
      "(Intercept) \n",
      "   37.10551 \n",
      "         disp \n",
      "-0.0009370091 \n",
      "         hp \n",
      "-0.03115655 \n",
      "       wt \n",
      "-3.800891 \n"
     ]
    }
   ],
   "source": [
    "input <- mtcars[,c(\"mpg\",\"disp\",\"hp\",\"wt\")]\n",
    "\n",
    "# Create the relationship model.\n",
    "model <- lm(mpg~disp+hp+wt, data = input)\n",
    "\n",
    "# Show the model.\n",
    "print(model)\n",
    "\n",
    "# Get the Intercept and coefficients as vector elements.\n",
    "cat(\"# # # # The Coefficient Values # # # \",\"\\n\")\n",
    "\n",
    "a <- coef(model)[1]\n",
    "print(a)\n",
    "\n",
    "Xdisp <- coef(model)[2]\n",
    "Xhp <- coef(model)[3]\n",
    "Xwt <- coef(model)[4]\n",
    "\n",
    "print(Xdisp)\n",
    "print(Xhp)\n",
    "print(Xwt)"
   ]
  },
  {
   "cell_type": "markdown",
   "metadata": {},
   "source": [
    "## Create Equation for Regression Model"
   ]
  },
  {
   "cell_type": "code",
   "execution_count": 4,
   "metadata": {
    "collapsed": false
   },
   "outputs": [
    {
     "ename": "ERROR",
     "evalue": "Error in eval(expr, envir, enclos): 找不到物件 'Xdisp.x1'\n",
     "output_type": "error",
     "traceback": [
      "Error in eval(expr, envir, enclos): 找不到物件 'Xdisp.x1'\nTraceback:\n"
     ]
    }
   ],
   "source": [
    "Y = a+Xdisp.x1+Xhp.x2+Xwt.x3\n",
    "or\n",
    "Y = 37.15+(-0.000937)*x1+(-0.0311)*x2+(-3.8008)*x3"
   ]
  },
  {
   "cell_type": "markdown",
   "metadata": {},
   "source": [
    "## Apply Equation for predicting New Values"
   ]
  },
  {
   "cell_type": "code",
   "execution_count": 6,
   "metadata": {
    "collapsed": false
   },
   "outputs": [
    {
     "data": {
      "text/html": [
       "22.710395"
      ],
      "text/latex": [
       "22.710395"
      ],
      "text/markdown": [
       "22.710395"
      ],
      "text/plain": [
       "[1] 22.7104"
      ]
     },
     "metadata": {},
     "output_type": "display_data"
    }
   ],
   "source": [
    "Y = 37.15+(-0.000937)*221+(-0.0311)*102+(-3.8008)*2.91\n",
    "Y"
   ]
  },
  {
   "cell_type": "code",
   "execution_count": null,
   "metadata": {
    "collapsed": true
   },
   "outputs": [],
   "source": []
  }
 ],
 "metadata": {
  "kernelspec": {
   "display_name": "R",
   "language": "R",
   "name": "ir"
  },
  "language_info": {
   "codemirror_mode": "r",
   "file_extension": ".r",
   "mimetype": "text/x-r-source",
   "name": "R",
   "pygments_lexer": "r",
   "version": "3.3.2"
  }
 },
 "nbformat": 4,
 "nbformat_minor": 1
}
