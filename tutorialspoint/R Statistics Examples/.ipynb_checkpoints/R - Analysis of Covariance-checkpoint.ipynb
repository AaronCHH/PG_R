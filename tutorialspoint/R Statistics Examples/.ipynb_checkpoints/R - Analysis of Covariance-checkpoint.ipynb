{
 "cells": [
  {
   "cell_type": "markdown",
   "metadata": {},
   "source": [
    "# R - Analysis of Covariance"
   ]
  },
  {
   "cell_type": "markdown",
   "metadata": {},
   "source": [
    "```\n",
    "We use Regression analysis to create models which describe the effect of variation in predictor variables on the response variable.  \n",
    "\n",
    "Sometimes, if we have a categorical variable with values like Yes/No or Male/Female etc.  \n",
    "\n",
    "The simple regression analysis gives multiple results for each value of the categorical variable.  \n",
    "\n",
    "In such scenario, we can study the effect of the categorical variable by using it along with the predictor variable and comparing the regression lines for each level of the categorical variable.  \n",
    "\n",
    "Such an analysis is termed as Analysis of Covariance also called as ANCOVA.  \n",
    "```\n"
   ]
  },
  {
   "cell_type": "markdown",
   "metadata": {},
   "source": [
    "# Example"
   ]
  },
  {
   "cell_type": "markdown",
   "metadata": {},
   "source": [
    "# Input Data"
   ]
  },
  {
   "cell_type": "code",
   "execution_count": 1,
   "metadata": {
    "collapsed": false
   },
   "outputs": [
    {
     "name": "stdout",
     "output_type": "stream",
     "text": [
      "                  am  mpg  hp\n",
      "Mazda RX4          1 21.0 110\n",
      "Mazda RX4 Wag      1 21.0 110\n",
      "Datsun 710         1 22.8  93\n",
      "Hornet 4 Drive     0 21.4 110\n",
      "Hornet Sportabout  0 18.7 175\n",
      "Valiant            0 18.1 105\n"
     ]
    }
   ],
   "source": [
    "input <- mtcars[,c(\"am\",\"mpg\",\"hp\")]\n",
    "print(head(input))"
   ]
  },
  {
   "cell_type": "markdown",
   "metadata": {},
   "source": [
    "# ANCOVA Analysis"
   ]
  },
  {
   "cell_type": "markdown",
   "metadata": {},
   "source": [
    "## Model with interaction between categorical variable and predictor variable"
   ]
  },
  {
   "cell_type": "code",
   "execution_count": 2,
   "metadata": {
    "collapsed": false
   },
   "outputs": [
    {
     "name": "stdout",
     "output_type": "stream",
     "text": [
      "            Df Sum Sq Mean Sq F value   Pr(>F)    \n",
      "hp           1  678.4   678.4  77.391 1.50e-09 ***\n",
      "am           1  202.2   202.2  23.072 4.75e-05 ***\n",
      "hp:am        1    0.0     0.0   0.001    0.981    \n",
      "Residuals   28  245.4     8.8                     \n",
      "---\n",
      "Signif. codes:  0 '***' 0.001 '**' 0.01 '*' 0.05 '.' 0.1 ' ' 1\n"
     ]
    }
   ],
   "source": [
    "# Get the dataset.\n",
    "input <- mtcars\n",
    "\n",
    "# Create the regression model.\n",
    "result <- aov(mpg~hp*am,data = input)\n",
    "print(summary(result))"
   ]
  },
  {
   "cell_type": "markdown",
   "metadata": {},
   "source": [
    "## Model without interaction between categorical variable and predictor variable"
   ]
  },
  {
   "cell_type": "code",
   "execution_count": 3,
   "metadata": {
    "collapsed": false
   },
   "outputs": [
    {
     "name": "stdout",
     "output_type": "stream",
     "text": [
      "            Df Sum Sq Mean Sq F value   Pr(>F)    \n",
      "hp           1  678.4   678.4   80.15 7.63e-10 ***\n",
      "am           1  202.2   202.2   23.89 3.46e-05 ***\n",
      "Residuals   29  245.4     8.5                     \n",
      "---\n",
      "Signif. codes:  0 '***' 0.001 '**' 0.01 '*' 0.05 '.' 0.1 ' ' 1\n"
     ]
    }
   ],
   "source": [
    "# Get the dataset.\n",
    "input <- mtcars\n",
    "\n",
    "# Create the regression model.\n",
    "result <- aov(mpg~hp+am,data = input)\n",
    "print(summary(result))"
   ]
  },
  {
   "cell_type": "markdown",
   "metadata": {},
   "source": [
    "# Comparing Two Models"
   ]
  },
  {
   "cell_type": "code",
   "execution_count": 5,
   "metadata": {
    "collapsed": false
   },
   "outputs": [
    {
     "name": "stdout",
     "output_type": "stream",
     "text": [
      "Analysis of Variance Table\n",
      "\n",
      "Model 1: mpg ~ hp * am\n",
      "Model 2: mpg ~ hp + am\n",
      "  Res.Df    RSS Df  Sum of Sq     F Pr(>F)\n",
      "1     28 245.43                           \n",
      "2     29 245.44 -1 -0.0052515 6e-04 0.9806\n"
     ]
    }
   ],
   "source": [
    "# Get the dataset.\n",
    "input <- mtcars\n",
    "\n",
    "# Create the regression models.\n",
    "result1 <- aov(mpg ~ hp*am, data = input)\n",
    "result2 <- aov(mpg ~ hp+am, data = input)\n",
    "\n",
    "# Compare the two models.\n",
    "print(anova(result1,result2))"
   ]
  },
  {
   "cell_type": "code",
   "execution_count": null,
   "metadata": {
    "collapsed": true
   },
   "outputs": [],
   "source": []
  }
 ],
 "metadata": {
  "kernelspec": {
   "display_name": "R",
   "language": "R",
   "name": "ir"
  },
  "language_info": {
   "codemirror_mode": "r",
   "file_extension": ".r",
   "mimetype": "text/x-r-source",
   "name": "R",
   "pygments_lexer": "r",
   "version": "3.3.2"
  }
 },
 "nbformat": 4,
 "nbformat_minor": 1
}
