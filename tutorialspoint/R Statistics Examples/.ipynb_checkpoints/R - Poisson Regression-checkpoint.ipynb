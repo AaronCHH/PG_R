{
 "cells": [
  {
   "cell_type": "markdown",
   "metadata": {},
   "source": [
    "# R - Poisson Regression"
   ]
  },
  {
   "cell_type": "markdown",
   "metadata": {},
   "source": [
    "```\n",
    "log(y) = a + b1x1 + b2x2 + bnxn.....\n",
    "```"
   ]
  },
  {
   "cell_type": "markdown",
   "metadata": {},
   "source": [
    "# Syntax"
   ]
  },
  {
   "cell_type": "markdown",
   "metadata": {},
   "source": [
    "```\n",
    "glm(formula,data,family)\n",
    "```"
   ]
  },
  {
   "cell_type": "markdown",
   "metadata": {},
   "source": [
    "# Example"
   ]
  },
  {
   "cell_type": "markdown",
   "metadata": {},
   "source": [
    "## Input Data"
   ]
  },
  {
   "cell_type": "code",
   "execution_count": 1,
   "metadata": {
    "collapsed": false
   },
   "outputs": [
    {
     "name": "stdout",
     "output_type": "stream",
     "text": [
      "  breaks wool tension\n",
      "1     26    A       L\n",
      "2     30    A       L\n",
      "3     54    A       L\n",
      "4     25    A       L\n",
      "5     70    A       L\n",
      "6     52    A       L\n"
     ]
    }
   ],
   "source": [
    "input <- warpbreaks\n",
    "print(head(input))"
   ]
  },
  {
   "cell_type": "markdown",
   "metadata": {},
   "source": [
    "# Create Regression Model"
   ]
  },
  {
   "cell_type": "code",
   "execution_count": 2,
   "metadata": {
    "collapsed": false
   },
   "outputs": [
    {
     "name": "stdout",
     "output_type": "stream",
     "text": [
      "\n",
      "Call:\n",
      "glm(formula = breaks ~ wool + tension, family = poisson, data = warpbreaks)\n",
      "\n",
      "Deviance Residuals: \n",
      "    Min       1Q   Median       3Q      Max  \n",
      "-3.6871  -1.6503  -0.4269   1.1902   4.2616  \n",
      "\n",
      "Coefficients:\n",
      "            Estimate Std. Error z value Pr(>|z|)    \n",
      "(Intercept)  3.69196    0.04541  81.302  < 2e-16 ***\n",
      "woolB       -0.20599    0.05157  -3.994 6.49e-05 ***\n",
      "tensionM    -0.32132    0.06027  -5.332 9.73e-08 ***\n",
      "tensionH    -0.51849    0.06396  -8.107 5.21e-16 ***\n",
      "---\n",
      "Signif. codes:  0 '***' 0.001 '**' 0.01 '*' 0.05 '.' 0.1 ' ' 1\n",
      "\n",
      "(Dispersion parameter for poisson family taken to be 1)\n",
      "\n",
      "    Null deviance: 297.37  on 53  degrees of freedom\n",
      "Residual deviance: 210.39  on 50  degrees of freedom\n",
      "AIC: 493.06\n",
      "\n",
      "Number of Fisher Scoring iterations: 4\n",
      "\n"
     ]
    }
   ],
   "source": [
    "output <-glm(formula = breaks ~ wool+tension, \n",
    "             data = warpbreaks, \n",
    "             family = poisson)\n",
    "\n",
    "print(summary(output))"
   ]
  },
  {
   "cell_type": "code",
   "execution_count": null,
   "metadata": {
    "collapsed": true
   },
   "outputs": [],
   "source": []
  }
 ],
 "metadata": {
  "kernelspec": {
   "display_name": "R",
   "language": "R",
   "name": "ir"
  },
  "language_info": {
   "codemirror_mode": "r",
   "file_extension": ".r",
   "mimetype": "text/x-r-source",
   "name": "R",
   "pygments_lexer": "r",
   "version": "3.3.2"
  }
 },
 "nbformat": 4,
 "nbformat_minor": 1
}
