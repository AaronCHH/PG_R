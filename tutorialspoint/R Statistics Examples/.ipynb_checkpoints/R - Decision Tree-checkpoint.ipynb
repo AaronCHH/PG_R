{
 "cells": [
  {
   "cell_type": "markdown",
   "metadata": {},
   "source": [
    "# R - Decision Tree"
   ]
  },
  {
   "cell_type": "markdown",
   "metadata": {},
   "source": [
    "# Install R Package"
   ]
  },
  {
   "cell_type": "markdown",
   "metadata": {},
   "source": [
    "```\n",
    "install.packages(\"party\")\n",
    "```"
   ]
  },
  {
   "cell_type": "markdown",
   "metadata": {},
   "source": [
    "# Syntax"
   ]
  },
  {
   "cell_type": "markdown",
   "metadata": {},
   "source": [
    "```\n",
    "ctree(formula, data)\n",
    "```"
   ]
  },
  {
   "cell_type": "markdown",
   "metadata": {},
   "source": [
    "# Input Data"
   ]
  },
  {
   "cell_type": "code",
   "execution_count": 2,
   "metadata": {
    "collapsed": false
   },
   "outputs": [
    {
     "name": "stderr",
     "output_type": "stream",
     "text": [
      "Loading required package: grid\n",
      "Loading required package: mvtnorm\n",
      "Loading required package: modeltools\n",
      "Loading required package: stats4\n",
      "Loading required package: strucchange\n",
      "Loading required package: zoo\n",
      "\n",
      "Attaching package: 'zoo'\n",
      "\n",
      "The following objects are masked from 'package:base':\n",
      "\n",
      "    as.Date, as.Date.numeric\n",
      "\n",
      "Loading required package: sandwich\n"
     ]
    },
    {
     "name": "stdout",
     "output_type": "stream",
     "text": [
      "  nativeSpeaker age shoeSize    score\n",
      "1           yes   5 24.83189 32.29385\n",
      "2           yes   6 25.95238 36.63105\n",
      "3            no  11 30.42170 49.60593\n",
      "4           yes   7 28.66450 40.28456\n",
      "5           yes  11 31.88207 55.46085\n",
      "6           yes  10 30.07843 52.83124\n"
     ]
    }
   ],
   "source": [
    "# Load the party package. It will automatically load other dependent packages.\n",
    "library(party)\n",
    "\n",
    "# Print some records from data set readingSkills.\n",
    "print(head(readingSkills))"
   ]
  },
  {
   "cell_type": "markdown",
   "metadata": {},
   "source": [
    "# Example"
   ]
  },
  {
   "cell_type": "code",
   "execution_count": 3,
   "metadata": {
    "collapsed": false
   },
   "outputs": [
    {
     "data": {
      "text/html": [
       "<strong>png:</strong> 2"
      ],
      "text/latex": [
       "\\textbf{png:} 2"
      ],
      "text/markdown": [
       "**png:** 2"
      ],
      "text/plain": [
       "png \n",
       "  2 "
      ]
     },
     "metadata": {},
     "output_type": "display_data"
    }
   ],
   "source": [
    "# Load the party package. It will automatically load other dependent packages.\n",
    "library(party)\n",
    "\n",
    "# Create the input data frame.\n",
    "input.dat <- readingSkills[c(1:105),]\n",
    "\n",
    "# Give the chart file a name.\n",
    "png(file = \"decision_tree.png\")\n",
    "\n",
    "# Create the tree.\n",
    "  output.tree <- ctree(\n",
    "      nativeSpeaker ~ age + shoeSize + score, \n",
    "      data = input.dat)\n",
    "\n",
    "# Plot the tree.\n",
    "plot(output.tree)\n",
    "\n",
    "# Save the file.\n",
    "dev.off()"
   ]
  },
  {
   "cell_type": "code",
   "execution_count": null,
   "metadata": {
    "collapsed": true
   },
   "outputs": [],
   "source": []
  }
 ],
 "metadata": {
  "kernelspec": {
   "display_name": "R",
   "language": "R",
   "name": "ir"
  },
  "language_info": {
   "codemirror_mode": "r",
   "file_extension": ".r",
   "mimetype": "text/x-r-source",
   "name": "R",
   "pygments_lexer": "r",
   "version": "3.3.2"
  }
 },
 "nbformat": 4,
 "nbformat_minor": 1
}
