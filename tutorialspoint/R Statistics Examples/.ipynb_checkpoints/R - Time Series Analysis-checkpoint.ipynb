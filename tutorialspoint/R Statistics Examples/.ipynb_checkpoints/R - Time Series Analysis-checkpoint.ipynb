{
 "cells": [
  {
   "cell_type": "markdown",
   "metadata": {},
   "source": [
    "# R - Time Series Analysis"
   ]
  },
  {
   "cell_type": "markdown",
   "metadata": {},
   "source": [
    "# Syntax"
   ]
  },
  {
   "cell_type": "markdown",
   "metadata": {},
   "source": [
    "```\n",
    "timeseries.object.name <-  ts(data, start, end, frequency)\n",
    "```"
   ]
  },
  {
   "cell_type": "markdown",
   "metadata": {},
   "source": [
    "# Example"
   ]
  },
  {
   "cell_type": "code",
   "execution_count": 1,
   "metadata": {
    "collapsed": false
   },
   "outputs": [
    {
     "name": "stdout",
     "output_type": "stream",
     "text": [
      "        Jan    Feb    Mar    Apr    May    Jun    Jul    Aug    Sep    Oct\n",
      "2012  799.0 1174.8  865.1 1334.6  635.4  918.5  685.5  998.6  784.2  985.0\n",
      "        Nov    Dec\n",
      "2012  882.8 1071.0\n"
     ]
    },
    {
     "data": {
      "text/html": [
       "<strong>png:</strong> 2"
      ],
      "text/latex": [
       "\\textbf{png:} 2"
      ],
      "text/markdown": [
       "**png:** 2"
      ],
      "text/plain": [
       "png \n",
       "  2 "
      ]
     },
     "metadata": {},
     "output_type": "display_data"
    }
   ],
   "source": [
    "# Get the data points in form of a R vector.\n",
    "rainfall <- c(799,1174.8,865.1,1334.6,635.4,918.5,685.5,998.6,784.2,985,882.8,1071)\n",
    "\n",
    "# Convert it to a time series object.\n",
    "rainfall.timeseries <- ts(rainfall,start = c(2012,1), frequency = 12)\n",
    "\n",
    "# Print the timeseries data.\n",
    "print(rainfall.timeseries)\n",
    "\n",
    "# Give the chart file a name.\n",
    "png(file = \"rainfall.png\")\n",
    "\n",
    "# Plot a graph of the time series.\n",
    "plot(rainfall.timeseries)\n",
    "\n",
    "# Save the file.\n",
    "dev.off()"
   ]
  },
  {
   "cell_type": "markdown",
   "metadata": {},
   "source": [
    "# Different Time Intervals"
   ]
  },
  {
   "cell_type": "markdown",
   "metadata": {},
   "source": [
    "```\n",
    "The value of the frequency parameter in the ts() function decides the time intervals at which  the data points are measured. \n",
    "A value of 12 indicates that the time series is for 12 months.\n",
    "Other values and its meaning is as below −\n",
    "```\n",
    "* frequency = 12 pegs the data points for every month of a year.  \n",
    "* frequency = 4 pegs the data points for every quarter of a year.  \n",
    "* frequency = 6 pegs the data points for every 10 minutes of an hour.  \n",
    "* frequency = 24*6 pegs the data points for every 10 minutes of a day.  "
   ]
  },
  {
   "cell_type": "markdown",
   "metadata": {},
   "source": [
    "# Multiple Time Series"
   ]
  },
  {
   "cell_type": "code",
   "execution_count": 2,
   "metadata": {
    "collapsed": false
   },
   "outputs": [
    {
     "name": "stdout",
     "output_type": "stream",
     "text": [
      "         Series 1 Series 2\n",
      "Jan 2012    799.0    655.0\n",
      "Feb 2012   1174.8   1306.9\n",
      "Mar 2012    865.1   1323.4\n",
      "Apr 2012   1334.6   1172.2\n",
      "May 2012    635.4    562.2\n",
      "Jun 2012    918.5    824.0\n",
      "Jul 2012    685.5    822.4\n",
      "Aug 2012    998.6   1265.5\n",
      "Sep 2012    784.2    799.6\n",
      "Oct 2012    985.0   1105.6\n",
      "Nov 2012    882.8   1106.7\n",
      "Dec 2012   1071.0   1337.8\n"
     ]
    },
    {
     "data": {
      "text/html": [
       "<strong>png:</strong> 2"
      ],
      "text/latex": [
       "\\textbf{png:} 2"
      ],
      "text/markdown": [
       "**png:** 2"
      ],
      "text/plain": [
       "png \n",
       "  2 "
      ]
     },
     "metadata": {},
     "output_type": "display_data"
    }
   ],
   "source": [
    "# Get the data points in form of a R vector.\n",
    "rainfall1 <- c(799,1174.8,865.1,1334.6,635.4,918.5,685.5,998.6,784.2,985,882.8,1071)\n",
    "rainfall2 <- \n",
    "           c(655,1306.9,1323.4,1172.2,562.2,824,822.4,1265.5,799.6,1105.6,1106.7,1337.8)\n",
    "\n",
    "# Convert them to a matrix.\n",
    "combined.rainfall <-  matrix(c(rainfall1, rainfall2), nrow = 12)\n",
    "\n",
    "# Convert it to a time series object.\n",
    "rainfall.timeseries <- ts(combined.rainfall,start = c(2012,1), frequency = 12)\n",
    "\n",
    "# Print the timeseries data.\n",
    "print(rainfall.timeseries)\n",
    "\n",
    "# Give the chart file a name.\n",
    "png(file = \"rainfall_combined.png\")\n",
    "\n",
    "# Plot a graph of the time series.\n",
    "plot(rainfall.timeseries, main = \"Multiple Time Series\")\n",
    "\n",
    "# Save the file.\n",
    "dev.off()"
   ]
  },
  {
   "cell_type": "code",
   "execution_count": null,
   "metadata": {
    "collapsed": true
   },
   "outputs": [],
   "source": []
  }
 ],
 "metadata": {
  "kernelspec": {
   "display_name": "R",
   "language": "R",
   "name": "ir"
  },
  "language_info": {
   "codemirror_mode": "r",
   "file_extension": ".r",
   "mimetype": "text/x-r-source",
   "name": "R",
   "pygments_lexer": "r",
   "version": "3.3.2"
  }
 },
 "nbformat": 4,
 "nbformat_minor": 1
}
