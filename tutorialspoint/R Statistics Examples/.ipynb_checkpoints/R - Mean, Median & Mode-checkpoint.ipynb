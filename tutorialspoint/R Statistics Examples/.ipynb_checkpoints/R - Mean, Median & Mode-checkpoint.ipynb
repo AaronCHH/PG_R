{
 "cells": [
  {
   "cell_type": "markdown",
   "metadata": {},
   "source": [
    "# R - Mean, Median & Mode"
   ]
  },
  {
   "cell_type": "markdown",
   "metadata": {},
   "source": [
    "# Mean"
   ]
  },
  {
   "cell_type": "markdown",
   "metadata": {},
   "source": [
    "## Syntax"
   ]
  },
  {
   "cell_type": "code",
   "execution_count": null,
   "metadata": {
    "collapsed": true
   },
   "outputs": [],
   "source": [
    "mean(x, trim = 0, na.rm = FALSE, ...)"
   ]
  },
  {
   "cell_type": "markdown",
   "metadata": {},
   "source": [
    "## Example"
   ]
  },
  {
   "cell_type": "code",
   "execution_count": 1,
   "metadata": {
    "collapsed": false
   },
   "outputs": [
    {
     "name": "stdout",
     "output_type": "stream",
     "text": [
      "[1] 8.22\n"
     ]
    }
   ],
   "source": [
    "# Create a vector. \n",
    "x <- c(12,7,3,4.2,18,2,54,-21,8,-5)\n",
    "\n",
    "# Find Mean.\n",
    "result.mean <- mean(x)\n",
    "print(result.mean)"
   ]
  },
  {
   "cell_type": "markdown",
   "metadata": {},
   "source": [
    "# Applying Trim Option"
   ]
  },
  {
   "cell_type": "code",
   "execution_count": 2,
   "metadata": {
    "collapsed": false
   },
   "outputs": [
    {
     "name": "stdout",
     "output_type": "stream",
     "text": [
      "[1] 5.55\n"
     ]
    }
   ],
   "source": [
    "# Create a vector.\n",
    "x <- c(12,7,3,4.2,18,2,54,-21,8,-5)\n",
    "\n",
    "# Find Mean.\n",
    "result.mean <-  mean(x,trim = 0.3)\n",
    "print(result.mean)"
   ]
  },
  {
   "cell_type": "markdown",
   "metadata": {},
   "source": [
    "# Applying NA Option"
   ]
  },
  {
   "cell_type": "code",
   "execution_count": 3,
   "metadata": {
    "collapsed": false
   },
   "outputs": [
    {
     "name": "stdout",
     "output_type": "stream",
     "text": [
      "[1] NA\n",
      "[1] 8.22\n"
     ]
    }
   ],
   "source": [
    "# Create a vector. \n",
    "x <- c(12,7,3,4.2,18,2,54,-21,8,-5,NA)\n",
    "\n",
    "# Find mean.\n",
    "result.mean <-  mean(x)\n",
    "print(result.mean)\n",
    "\n",
    "# Find mean dropping NA values.\n",
    "result.mean <-  mean(x,na.rm = TRUE)\n",
    "print(result.mean)"
   ]
  },
  {
   "cell_type": "markdown",
   "metadata": {},
   "source": [
    "# Median"
   ]
  },
  {
   "cell_type": "markdown",
   "metadata": {},
   "source": [
    "## Syntax"
   ]
  },
  {
   "cell_type": "code",
   "execution_count": null,
   "metadata": {
    "collapsed": true
   },
   "outputs": [],
   "source": [
    "median(x, na.rm = FALSE)"
   ]
  },
  {
   "cell_type": "markdown",
   "metadata": {},
   "source": [
    "## Example"
   ]
  },
  {
   "cell_type": "code",
   "execution_count": 4,
   "metadata": {
    "collapsed": false
   },
   "outputs": [
    {
     "name": "stdout",
     "output_type": "stream",
     "text": [
      "[1] 5.6\n"
     ]
    }
   ],
   "source": [
    "# Create the vector.\n",
    "x <- c(12,7,3,4.2,18,2,54,-21,8,-5)\n",
    "\n",
    "# Find the median.\n",
    "median.result <- median(x)\n",
    "print(median.result)"
   ]
  },
  {
   "cell_type": "markdown",
   "metadata": {},
   "source": [
    "# Mode"
   ]
  },
  {
   "cell_type": "markdown",
   "metadata": {},
   "source": [
    "## Example"
   ]
  },
  {
   "cell_type": "code",
   "execution_count": 5,
   "metadata": {
    "collapsed": false
   },
   "outputs": [
    {
     "name": "stdout",
     "output_type": "stream",
     "text": [
      "[1] 2\n",
      "[1] \"it\"\n"
     ]
    }
   ],
   "source": [
    "# Create the function.\n",
    "getmode <- function(v) {\n",
    "   uniqv <- unique(v)\n",
    "   uniqv[which.max(tabulate(match(v, uniqv)))]\n",
    "}\n",
    "\n",
    "# Create the vector with numbers.\n",
    "v <- c(2,1,2,3,1,2,3,4,1,5,5,3,2,3)\n",
    "\n",
    "# Calculate the mode using the user function.\n",
    "result <- getmode(v)\n",
    "print(result)\n",
    "\n",
    "# Create the vector with characters.\n",
    "charv <- c(\"o\",\"it\",\"the\",\"it\",\"it\")\n",
    "\n",
    "# Calculate the mode using the user function.\n",
    "result <- getmode(charv)\n",
    "print(result)"
   ]
  },
  {
   "cell_type": "code",
   "execution_count": null,
   "metadata": {
    "collapsed": true
   },
   "outputs": [],
   "source": []
  }
 ],
 "metadata": {
  "anaconda-cloud": {},
  "kernelspec": {
   "display_name": "R",
   "language": "R",
   "name": "ir"
  },
  "language_info": {
   "codemirror_mode": "r",
   "file_extension": ".r",
   "mimetype": "text/x-r-source",
   "name": "R",
   "pygments_lexer": "r",
   "version": "3.3.2"
  }
 },
 "nbformat": 4,
 "nbformat_minor": 1
}
