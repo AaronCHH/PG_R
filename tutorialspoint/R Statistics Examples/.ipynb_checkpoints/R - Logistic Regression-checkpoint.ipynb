{
 "cells": [
  {
   "cell_type": "markdown",
   "metadata": {},
   "source": [
    "# R - Logistic Regression"
   ]
  },
  {
   "cell_type": "markdown",
   "metadata": {},
   "source": [
    "```\n",
    "y = 1/(1+e^-(a+b1x1+b2x2+b3x3+...))\n",
    "```"
   ]
  },
  {
   "cell_type": "markdown",
   "metadata": {},
   "source": [
    "# Syntax"
   ]
  },
  {
   "cell_type": "markdown",
   "metadata": {},
   "source": [
    "```\n",
    "glm(formula,data,family)\n",
    "```"
   ]
  },
  {
   "cell_type": "markdown",
   "metadata": {},
   "source": [
    "# Example"
   ]
  },
  {
   "cell_type": "code",
   "execution_count": 2,
   "metadata": {
    "collapsed": false
   },
   "outputs": [
    {
     "name": "stdout",
     "output_type": "stream",
     "text": [
      "                  am cyl  hp    wt\n",
      "Mazda RX4          1   6 110 2.620\n",
      "Mazda RX4 Wag      1   6 110 2.875\n",
      "Datsun 710         1   4  93 2.320\n",
      "Hornet 4 Drive     0   6 110 3.215\n",
      "Hornet Sportabout  0   8 175 3.440\n",
      "Valiant            0   6 105 3.460\n"
     ]
    }
   ],
   "source": [
    "# Select some columns form mtcars.\n",
    "input <- mtcars[,c(\"am\",\"cyl\",\"hp\",\"wt\")]\n",
    "\n",
    "print(head(input))"
   ]
  },
  {
   "cell_type": "markdown",
   "metadata": {},
   "source": [
    "# Create Regression Model"
   ]
  },
  {
   "cell_type": "code",
   "execution_count": 3,
   "metadata": {
    "collapsed": false
   },
   "outputs": [
    {
     "name": "stdout",
     "output_type": "stream",
     "text": [
      "\n",
      "Call:\n",
      "glm(formula = am ~ cyl + hp + wt, family = binomial, data = input)\n",
      "\n",
      "Deviance Residuals: \n",
      "     Min        1Q    Median        3Q       Max  \n",
      "-2.17272  -0.14907  -0.01464   0.14116   1.27641  \n",
      "\n",
      "Coefficients:\n",
      "            Estimate Std. Error z value Pr(>|z|)  \n",
      "(Intercept) 19.70288    8.11637   2.428   0.0152 *\n",
      "cyl          0.48760    1.07162   0.455   0.6491  \n",
      "hp           0.03259    0.01886   1.728   0.0840 .\n",
      "wt          -9.14947    4.15332  -2.203   0.0276 *\n",
      "---\n",
      "Signif. codes:  0 '***' 0.001 '**' 0.01 '*' 0.05 '.' 0.1 ' ' 1\n",
      "\n",
      "(Dispersion parameter for binomial family taken to be 1)\n",
      "\n",
      "    Null deviance: 43.2297  on 31  degrees of freedom\n",
      "Residual deviance:  9.8415  on 28  degrees of freedom\n",
      "AIC: 17.841\n",
      "\n",
      "Number of Fisher Scoring iterations: 8\n",
      "\n"
     ]
    }
   ],
   "source": [
    "input <- mtcars[,c(\"am\",\"cyl\",\"hp\",\"wt\")]\n",
    "\n",
    "am.data = glm(formula = am ~ cyl + hp + wt, \n",
    "              data = input, \n",
    "              family = binomial)\n",
    "\n",
    "print(summary(am.data))"
   ]
  },
  {
   "cell_type": "code",
   "execution_count": null,
   "metadata": {
    "collapsed": true
   },
   "outputs": [],
   "source": []
  }
 ],
 "metadata": {
  "anaconda-cloud": {},
  "kernelspec": {
   "display_name": "R",
   "language": "R",
   "name": "ir"
  },
  "language_info": {
   "codemirror_mode": "r",
   "file_extension": ".r",
   "mimetype": "text/x-r-source",
   "name": "R",
   "pygments_lexer": "r",
   "version": "3.3.2"
  }
 },
 "nbformat": 4,
 "nbformat_minor": 1
}
