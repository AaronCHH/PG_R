{
 "cells": [
  {
   "cell_type": "markdown",
   "metadata": {},
   "source": [
    "# R - Normal Distribution"
   ]
  },
  {
   "cell_type": "markdown",
   "metadata": {},
   "source": [
    "```\n",
    "dnorm(x, mean, sd)\n",
    "pnorm(x, mean, sd)\n",
    "qnorm(p, mean, sd)\n",
    "rnorm(n, mean, sd)\n",
    "```"
   ]
  },
  {
   "cell_type": "markdown",
   "metadata": {},
   "source": [
    "# dnorm()"
   ]
  },
  {
   "cell_type": "code",
   "execution_count": 1,
   "metadata": {
    "collapsed": false
   },
   "outputs": [
    {
     "data": {
      "text/html": [
       "<strong>png:</strong> 2"
      ],
      "text/latex": [
       "\\textbf{png:} 2"
      ],
      "text/markdown": [
       "**png:** 2"
      ],
      "text/plain": [
       "png \n",
       "  2 "
      ]
     },
     "metadata": {},
     "output_type": "display_data"
    }
   ],
   "source": [
    "# Create a sequence of numbers between -10 and 10 incrementing by 0.1.\n",
    "x <- seq(-10, 10, by = .1)\n",
    "\n",
    "# Choose the mean as 2.5 and standard deviation as 0.5.\n",
    "y <- dnorm(x, mean = 2.5, sd = 0.5)\n",
    "\n",
    "# Give the chart file a name.\n",
    "png(file = \"dnorm.png\")\n",
    "\n",
    "plot(x,y)\n",
    "\n",
    "# Save the file.\n",
    "dev.off()"
   ]
  },
  {
   "cell_type": "markdown",
   "metadata": {},
   "source": [
    "# pnorm()"
   ]
  },
  {
   "cell_type": "code",
   "execution_count": 2,
   "metadata": {
    "collapsed": false
   },
   "outputs": [
    {
     "data": {
      "text/html": [
       "<strong>png:</strong> 2"
      ],
      "text/latex": [
       "\\textbf{png:} 2"
      ],
      "text/markdown": [
       "**png:** 2"
      ],
      "text/plain": [
       "png \n",
       "  2 "
      ]
     },
     "metadata": {},
     "output_type": "display_data"
    }
   ],
   "source": [
    "# Create a sequence of numbers between -10 and 10 incrementing by 0.2.\n",
    "x <- seq(-10,10,by = .2)\n",
    " \n",
    "# Choose the mean as 2.5 and standard deviation as 2. \n",
    "y <- pnorm(x, mean = 2.5, sd = 2)\n",
    "\n",
    "# Give the chart file a name.\n",
    "png(file = \"pnorm.png\")\n",
    "\n",
    "# Plot the graph.\n",
    "plot(x,y)\n",
    "\n",
    "# Save the file.\n",
    "dev.off()"
   ]
  },
  {
   "cell_type": "markdown",
   "metadata": {},
   "source": [
    "# qnorm()"
   ]
  },
  {
   "cell_type": "code",
   "execution_count": 3,
   "metadata": {
    "collapsed": false
   },
   "outputs": [
    {
     "data": {
      "text/html": [
       "<strong>png:</strong> 2"
      ],
      "text/latex": [
       "\\textbf{png:} 2"
      ],
      "text/markdown": [
       "**png:** 2"
      ],
      "text/plain": [
       "png \n",
       "  2 "
      ]
     },
     "metadata": {},
     "output_type": "display_data"
    }
   ],
   "source": [
    "# Create a sequence of probability values incrementing by 0.02.\n",
    "x <- seq(0, 1, by = 0.02)\n",
    "\n",
    "# Choose the mean as 2 and standard deviation as 3.\n",
    "y <- qnorm(x, mean = 2, sd = 1)\n",
    "\n",
    "# Give the chart file a name.\n",
    "png(file = \"qnorm.png\")\n",
    "\n",
    "# Plot the graph.\n",
    "plot(x,y)\n",
    "\n",
    "# Save the file.\n",
    "dev.off()"
   ]
  },
  {
   "cell_type": "markdown",
   "metadata": {},
   "source": [
    "# rnorm()"
   ]
  },
  {
   "cell_type": "code",
   "execution_count": 4,
   "metadata": {
    "collapsed": false
   },
   "outputs": [
    {
     "data": {
      "text/html": [
       "<strong>png:</strong> 2"
      ],
      "text/latex": [
       "\\textbf{png:} 2"
      ],
      "text/markdown": [
       "**png:** 2"
      ],
      "text/plain": [
       "png \n",
       "  2 "
      ]
     },
     "metadata": {},
     "output_type": "display_data"
    }
   ],
   "source": [
    "# Create a sample of 50 numbers which are normally distributed.\n",
    "y <- rnorm(50)\n",
    "\n",
    "# Give the chart file a name.\n",
    "png(file = \"rnorm.png\")\n",
    "\n",
    "# Plot the histogram for this sample.\n",
    "hist(y, main = \"Normal DIstribution\")\n",
    "\n",
    "# Save the file.\n",
    "dev.off()"
   ]
  },
  {
   "cell_type": "code",
   "execution_count": null,
   "metadata": {
    "collapsed": true
   },
   "outputs": [],
   "source": []
  }
 ],
 "metadata": {
  "kernelspec": {
   "display_name": "R",
   "language": "R",
   "name": "ir"
  },
  "language_info": {
   "codemirror_mode": "r",
   "file_extension": ".r",
   "mimetype": "text/x-r-source",
   "name": "R",
   "pygments_lexer": "r",
   "version": "3.3.2"
  }
 },
 "nbformat": 4,
 "nbformat_minor": 1
}
