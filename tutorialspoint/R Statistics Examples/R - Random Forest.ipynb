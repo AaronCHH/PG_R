{
 "cells": [
  {
   "cell_type": "markdown",
   "metadata": {},
   "source": [
    "# R - Random Forest"
   ]
  },
  {
   "cell_type": "markdown",
   "metadata": {},
   "source": [
    "# Install R Package"
   ]
  },
  {
   "cell_type": "markdown",
   "metadata": {},
   "source": [
    "```\n",
    "install.packages(\"randomForest\")\n",
    "```"
   ]
  },
  {
   "cell_type": "markdown",
   "metadata": {},
   "source": [
    "## Syntax"
   ]
  },
  {
   "cell_type": "markdown",
   "metadata": {},
   "source": [
    "```\n",
    "randomForest(formula, data)\n",
    "```"
   ]
  },
  {
   "cell_type": "markdown",
   "metadata": {},
   "source": [
    "## Input Data"
   ]
  },
  {
   "cell_type": "code",
   "execution_count": 1,
   "metadata": {
    "collapsed": false
   },
   "outputs": [
    {
     "name": "stderr",
     "output_type": "stream",
     "text": [
      "Loading required package: grid\n",
      "Loading required package: mvtnorm\n",
      "Loading required package: modeltools\n",
      "Loading required package: stats4\n",
      "Loading required package: strucchange\n",
      "Loading required package: zoo\n",
      "\n",
      "Attaching package: 'zoo'\n",
      "\n",
      "The following objects are masked from 'package:base':\n",
      "\n",
      "    as.Date, as.Date.numeric\n",
      "\n",
      "Loading required package: sandwich\n"
     ]
    },
    {
     "name": "stdout",
     "output_type": "stream",
     "text": [
      "  nativeSpeaker age shoeSize    score\n",
      "1           yes   5 24.83189 32.29385\n",
      "2           yes   6 25.95238 36.63105\n",
      "3            no  11 30.42170 49.60593\n",
      "4           yes   7 28.66450 40.28456\n",
      "5           yes  11 31.88207 55.46085\n",
      "6           yes  10 30.07843 52.83124\n"
     ]
    }
   ],
   "source": [
    "# Load the party package. It will automatically load other required packages.\n",
    "library(party)\n",
    "\n",
    "# Print some records from data set readingSkills.\n",
    "print(head(readingSkills))"
   ]
  },
  {
   "cell_type": "markdown",
   "metadata": {},
   "source": [
    "## Example"
   ]
  },
  {
   "cell_type": "code",
   "execution_count": 2,
   "metadata": {
    "collapsed": false
   },
   "outputs": [
    {
     "name": "stderr",
     "output_type": "stream",
     "text": [
      "randomForest 4.6-12\n",
      "Type rfNews() to see new features/changes/bug fixes.\n"
     ]
    },
    {
     "name": "stdout",
     "output_type": "stream",
     "text": [
      "\n",
      "Call:\n",
      " randomForest(formula = nativeSpeaker ~ age + shoeSize + score,      data = readingSkills) \n",
      "               Type of random forest: classification\n",
      "                     Number of trees: 500\n",
      "No. of variables tried at each split: 1\n",
      "\n",
      "        OOB estimate of  error rate: 1%\n",
      "Confusion matrix:\n",
      "    no yes class.error\n",
      "no  98   2        0.02\n",
      "yes  0 100        0.00\n"
     ]
    },
    {
     "ename": "ERROR",
     "evalue": "Error in UseMethod(\"importance\"): 沒有適用的方法可將 'importance' 套用到 \"c('standardGeneric', 'genericFunction', 'function', 'OptionalFunction', 'PossibleMethod', 'functionOrNULL', 'optionalMethod')\" 類別的物件\n",
     "output_type": "error",
     "traceback": [
      "Error in UseMethod(\"importance\"): 沒有適用的方法可將 'importance' 套用到 \"c('standardGeneric', 'genericFunction', 'function', 'OptionalFunction', 'PossibleMethod', 'functionOrNULL', 'optionalMethod')\" 類別的物件\nTraceback:\n",
      "1. print(importance(fit, type = 2))",
      "2. importance(fit, type = 2)"
     ]
    }
   ],
   "source": [
    "# Load the party package. It will automatically load other required packages.\n",
    "library(party)\n",
    "library(randomForest)\n",
    "\n",
    "# Create the forest.\n",
    "output.forest <- randomForest(nativeSpeaker ~ age + shoeSize + score, \n",
    "                              data = readingSkills)\n",
    "\n",
    "# View the forest results.\n",
    "print(output.forest) \n",
    "\n",
    "# Importance of each predictor.\n",
    "print(importance(fit,type = 2)) "
   ]
  },
  {
   "cell_type": "code",
   "execution_count": null,
   "metadata": {
    "collapsed": true
   },
   "outputs": [],
   "source": []
  }
 ],
 "metadata": {
  "anaconda-cloud": {},
  "kernelspec": {
   "display_name": "R",
   "language": "R",
   "name": "ir"
  },
  "language_info": {
   "codemirror_mode": "r",
   "file_extension": ".r",
   "mimetype": "text/x-r-source",
   "name": "R",
   "pygments_lexer": "r",
   "version": "3.3.2"
  }
 },
 "nbformat": 4,
 "nbformat_minor": 1
}
