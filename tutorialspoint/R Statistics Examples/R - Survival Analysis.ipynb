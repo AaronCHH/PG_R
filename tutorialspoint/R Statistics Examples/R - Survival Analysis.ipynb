{
 "cells": [
  {
   "cell_type": "markdown",
   "metadata": {},
   "source": [
    "# R - Survival Analysis"
   ]
  },
  {
   "cell_type": "markdown",
   "metadata": {},
   "source": [
    "# Install Package"
   ]
  },
  {
   "cell_type": "markdown",
   "metadata": {},
   "source": [
    "```\n",
    "install.packages(\"survival\")\n",
    "```"
   ]
  },
  {
   "cell_type": "markdown",
   "metadata": {},
   "source": [
    "## Syntax"
   ]
  },
  {
   "cell_type": "markdown",
   "metadata": {},
   "source": [
    "```\n",
    "Surv(time,event)\n",
    "survfit(formula)\n",
    "```"
   ]
  },
  {
   "cell_type": "markdown",
   "metadata": {},
   "source": [
    "## Example"
   ]
  },
  {
   "cell_type": "code",
   "execution_count": 3,
   "metadata": {
    "collapsed": false
   },
   "outputs": [
    {
     "name": "stdout",
     "output_type": "stream",
     "text": [
      "  id time status trt      age sex ascites hepato spiders edema bili chol\n",
      "1  1  400      2   1 58.76523   f       1      1       1   1.0 14.5  261\n",
      "2  2 4500      0   1 56.44627   f       0      1       1   0.0  1.1  302\n",
      "3  3 1012      2   1 70.07255   m       0      0       0   0.5  1.4  176\n",
      "4  4 1925      2   1 54.74059   f       0      1       1   0.5  1.8  244\n",
      "5  5 1504      1   2 38.10541   f       0      1       1   0.0  3.4  279\n",
      "6  6 2503      2   2 66.25873   f       0      1       0   0.0  0.8  248\n",
      "  albumin copper alk.phos    ast trig platelet protime stage\n",
      "1    2.60    156   1718.0 137.95  172      190    12.2     4\n",
      "2    4.14     54   7394.8 113.52   88      221    10.6     3\n",
      "3    3.48    210    516.0  96.10   55      151    12.0     4\n",
      "4    2.54     64   6121.8  60.63   92      183    10.3     4\n",
      "5    3.53    143    671.0 113.15   72      136    10.9     3\n",
      "6    3.98     50    944.0  93.00   63       NA    11.0     3\n"
     ]
    }
   ],
   "source": [
    "# Load the library.\n",
    "library(\"survival\")\n",
    "\n",
    "# Print first few rows.\n",
    "print(head(pbc))"
   ]
  },
  {
   "cell_type": "markdown",
   "metadata": {},
   "source": [
    "## Applying Surv() and survfit() Function"
   ]
  },
  {
   "cell_type": "code",
   "execution_count": 4,
   "metadata": {
    "collapsed": false
   },
   "outputs": [
    {
     "data": {
      "text/plain": [
       "Call: survfit(formula = Surv(pbc$time, pbc$status == 2) ~ 1)\n",
       "\n",
       "      n  events  median 0.95LCL 0.95UCL \n",
       "    418     161    3395    3090    3853 "
      ]
     },
     "metadata": {},
     "output_type": "display_data"
    },
    {
     "data": {
      "text/html": [
       "<strong>png:</strong> 2"
      ],
      "text/latex": [
       "\\textbf{png:} 2"
      ],
      "text/markdown": [
       "**png:** 2"
      ],
      "text/plain": [
       "png \n",
       "  2 "
      ]
     },
     "metadata": {},
     "output_type": "display_data"
    }
   ],
   "source": [
    "# Load the library.\n",
    "library(\"survival\")\n",
    "\n",
    "# Create the survival object. \n",
    "survfit(Surv(pbc$time,pbc$status == 2)~1)\n",
    "\n",
    "# Give the chart file a name.\n",
    "png(file = \"survival.png\")\n",
    "\n",
    "# Plot the graph. \n",
    "plot(survfit(Surv(pbc$time,pbc$status == 2)~1))\n",
    "\n",
    "# Save the file.\n",
    "dev.off()"
   ]
  },
  {
   "cell_type": "code",
   "execution_count": null,
   "metadata": {
    "collapsed": true
   },
   "outputs": [],
   "source": []
  }
 ],
 "metadata": {
  "anaconda-cloud": {},
  "kernelspec": {
   "display_name": "R",
   "language": "R",
   "name": "ir"
  },
  "language_info": {
   "codemirror_mode": "r",
   "file_extension": ".r",
   "mimetype": "text/x-r-source",
   "name": "R",
   "pygments_lexer": "r",
   "version": "3.3.2"
  }
 },
 "nbformat": 4,
 "nbformat_minor": 1
}
